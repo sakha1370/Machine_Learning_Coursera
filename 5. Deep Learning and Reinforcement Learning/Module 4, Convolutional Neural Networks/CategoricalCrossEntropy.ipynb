{
 "cells": [
  {
   "cell_type": "markdown",
   "metadata": {},
   "source": [
    "<center>\n",
    "    <img src=\"https://cf-courses-data.s3.us.cloud-object-storage.appdomain.cloud/assets/logos/SN_web_lightmode.png\" width=\"300\" alt=\"cognitiveclass.ai logo\">\n",
    "</center>\n"
   ]
  },
  {
   "cell_type": "markdown",
   "metadata": {},
   "source": [
    "# **Categorical Cross-Entropy Loss**\n"
   ]
  },
  {
   "cell_type": "markdown",
   "metadata": {},
   "source": [
    "Estimated time needed: **45** minutes\n"
   ]
  },
  {
   "cell_type": "markdown",
   "metadata": {},
   "source": [
    "In this lab, we are going to use the MNIST hand-written digits dataset as a motivating example to understand categorical cross-entropy loss.\n"
   ]
  },
  {
   "cell_type": "markdown",
   "metadata": {},
   "source": [
    "<h1> House Number Detection </h1></s>\n",
    "\n",
    "You have been tasked with building a model that can recognize house numbers from arbitrary street-view images. You are given a set of images of single-digit house numbers engraved into slates or wall surfaces. The images vary in size and color. In this lab, we are going to use the MNIST hand-written digits dataset as a motivating example to understand the __softmax function__, __one-hot encoding__, and __categorical cross-entropy loss__. The MNIST hand-written dataset has 10 classes, each representing a digit from 0-9. We will attempt to build a multi-class classification model that will identify which digit is present in the image. \n"
   ]
  },
  {
   "cell_type": "markdown",
   "metadata": {},
   "source": [
    "<img src=\"https://cf-courses-data.s3.us.cloud-object-storage.appdomain.cloud/IBMDeveloperSkillsNetwork-ML311-Coursera/labs/Module3/L1/house_number.jpg\" style=\"width: 30%\">\n",
    "\n",
    "<!-- Original Source: https://slate.com/human-interest/2020/06/a-quest-to-catalogue-every-single-house-number-in-one-suburban-zip-code.html --> \n"
   ]
  },
  {
   "cell_type": "markdown",
   "metadata": {},
   "source": [
    "## **Table of Contents**\n",
    "\n",
    "<ol>\n",
    "    <li><a href=\"https://#Objectives\">Objectives</a></li>\n",
    "    <li><a href=\"https://#Datasets\">Datasets</a></li>\n",
    "    <li>\n",
    "        <a href=\"https://#Setup\">Setup</a>\n",
    "        <ol>\n",
    "            <li><a href=\"https://#Installing-Required-Libraries\">Installing Required Libraries</a></li>\n",
    "            <li><a href=\"https://#Importing-Required-Libraries\">Importing Required Libraries</a></li>\n",
    "            <li><a href=\"https://#Defining-Helper-Functions\">Defining Helper Functions</a></li>\n",
    "        </ol>\n",
    "    </li>\n",
    "    <li><a href=\"https://https://#Categorical Cross-Entropy\">Categorical Cross-Entropy</a>\n",
    "        <ol>\n",
    "            <li><a href=\"https://#Softmax Activation Function\">Softmax Activation Function</a></li>\n",
    "            <li><a href=\"https://#One-Hot Encoding\">One-Hot Encoding</a></li>\n",
    "            <li><a href=\"#Categorical Cross-Entropy\">Categorical Cross-Entropy</a></li>\n",
    "        </ol>\n",
    "    </li>\n",
    "    <li><a href=\"https://#Binary vs. Multi-Class Classification\">Binary vs. Multi-Class Classification</a>\n",
    "        <ol>\n",
    "            <li><a href=\"https://#Binary Classification\">Binary Classification</a></li>\n",
    "            <li><a href=\"https://#Multi-Class Classification\">Multi-Class Classification</a></li>\n",
    "        </ol>\n",
    "    </li>\n",
    "    <li>\n",
    "        <a href=\"https://#Example: MNIST Hand-Written Digits\">Example: MNIST Hand-Written Digits</a> </li>\n",
    "    <li>\n",
    "        <a href=\"https://#Example: Single-Digit House Number Recognition\"> Example: Single-Digit House Number Recognition</a> </li>\n",
    "    <li><a href=\"https://#Exercises\">Exercises</a>\n",
    "        <ol>\n",
    "            <li><a href=\"https://#Exercise 1 - Loading and plotting the images\">Exercise 1 - Loading and plotting the images</a></li>\n",
    "            <li><a href=\"https://#Exercise 2 - Preparing the data\">Exercise 2 - Preparing the data</a></li>\n",
    "            <li><a href=\"https://#Exercise 3 - One-hot encoding\">Exercise 3 - One-hot encoding</a></li>\n",
    "            <li><a href=\"https://#Exercise 4 - Build model architecture\">Exercise 4 - Build model architecture</a></li>\n",
    "            <li><a href=\"https://#(Optional) Exercise 5 - Sparse Categorical Cross-Entropy\">Sparse Categorical Cross-Entropy</a></li>\n",
    "        </ol>\n",
    "    </li>\n",
    "</ol>\n"
   ]
  },
  {
   "cell_type": "markdown",
   "metadata": {},
   "source": [
    "## Objectives\n",
    "\n",
    "After completing this lab you will be able to:\n",
    "\n",
    "*   **Understand** what categorical cross-entropy is, and how it works with the Softmax activation function.\n",
    "*   **Build** simple CNN models for binary and multi-class classification.\n"
   ]
  },
  {
   "cell_type": "markdown",
   "metadata": {},
   "source": [
    "## Setup\n"
   ]
  },
  {
   "cell_type": "markdown",
   "metadata": {},
   "source": [
    "For this lab, we will be using the following libraries:\n",
    "\n",
    "*   [`pandas`](https://pandas.pydata.org/?utm_medium=Exinfluencer&utm_source=Exinfluencer&utm_content=000026UJ&utm_term=10006555&utm_id=NA-SkillsNetwork-Channel-SkillsNetworkCoursesIBMML0187ENSkillsNetwork31430127-2021-01-01) for managing the data.\n",
    "*   [`numpy`](https://numpy.org/?utm_medium=Exinfluencer&utm_source=Exinfluencer&utm_content=000026UJ&utm_term=10006555&utm_id=NA-SkillsNetwork-Channel-SkillsNetworkCoursesIBMML0187ENSkillsNetwork31430127-2021-01-01) for mathematical operations.\n",
    "*   [`sklearn`](https://scikit-learn.org/stable/?utm_medium=Exinfluencer&utm_source=Exinfluencer&utm_content=000026UJ&utm_term=10006555&utm_id=NA-SkillsNetwork-Channel-SkillsNetworkCoursesIBMML0187ENSkillsNetwork31430127-2021-01-01) for machine learning and machine-learning-pipeline related functions.\n",
    "*   [`seaborn`](https://seaborn.pydata.org/?utm_medium=Exinfluencer&utm_source=Exinfluencer&utm_content=000026UJ&utm_term=10006555&utm_id=NA-SkillsNetwork-Channel-SkillsNetworkCoursesIBMML0187ENSkillsNetwork31430127-2021-01-01) for visualizing the data.\n",
    "*   [`matplotlib`](https://matplotlib.org/?utm_medium=Exinfluencer&utm_source=Exinfluencer&utm_content=000026UJ&utm_term=10006555&utm_id=NA-SkillsNetwork-Channel-SkillsNetworkCoursesIBMML0187ENSkillsNetwork31430127-2021-01-01) for additional plotting tools.\n",
    "*   [`keras`](https://keras.io/?utm_medium=Exinfluencer&utm_source=Exinfluencer&utm_content=000026UJ&utm_term=10006555&utm_id=NA-SkillsNetwork-Channel-SkillsNetworkCoursesIBMML0187ENSkillsNetwork31430127-2021-01-01) for loading datasets.\n"
   ]
  },
  {
   "cell_type": "markdown",
   "metadata": {},
   "source": [
    "### Installing Required Libraries\n",
    "\n",
    "The following required libraries are pre-installed in the Skills Network Labs environment. However, if you run these notebook commands in a different Jupyter environment (like Watson Studio or Ananconda), you will need to install these libraries by removing the `#` sign before `!pip install mlxtend` in the following code cell.\n"
   ]
  },
  {
   "cell_type": "markdown",
   "metadata": {},
   "source": [
    "The following required libraries are **not** pre-installed in the Skills Network Labs environment. **You will need to run the following cell** to install them. **Please RESTART KERNEL after installation,**.\n"
   ]
  },
  {
   "cell_type": "code",
   "execution_count": 1,
   "metadata": {},
   "outputs": [],
   "source": [
    "%%capture\n",
    "\n",
    "!pip install mlxtend\n",
    "!pip install --upgrade tensorflow"
   ]
  },
  {
   "cell_type": "markdown",
   "metadata": {},
   "source": [
    "### Importing Required Libraries\n"
   ]
  },
  {
   "cell_type": "code",
   "execution_count": 2,
   "metadata": {},
   "outputs": [
    {
     "name": "stderr",
     "output_type": "stream",
     "text": [
      "2025-02-14 12:32:21.682383: I tensorflow/core/platform/cpu_feature_guard.cc:193] This TensorFlow binary is optimized with oneAPI Deep Neural Network Library (oneDNN) to use the following CPU instructions in performance-critical operations:  AVX2 AVX512F AVX512_VNNI FMA\n",
      "To enable them in other operations, rebuild TensorFlow with the appropriate compiler flags.\n",
      "2025-02-14 12:32:21.865417: I tensorflow/core/util/port.cc:104] oneDNN custom operations are on. You may see slightly different numerical results due to floating-point round-off errors from different computation orders. To turn them off, set the environment variable `TF_ENABLE_ONEDNN_OPTS=0`.\n",
      "2025-02-14 12:32:21.871083: W tensorflow/compiler/xla/stream_executor/platform/default/dso_loader.cc:64] Could not load dynamic library 'libcudart.so.11.0'; dlerror: libcudart.so.11.0: cannot open shared object file: No such file or directory\n",
      "2025-02-14 12:32:21.871127: I tensorflow/compiler/xla/stream_executor/cuda/cudart_stub.cc:29] Ignore above cudart dlerror if you do not have a GPU set up on your machine.\n",
      "2025-02-14 12:32:23.165339: W tensorflow/compiler/xla/stream_executor/platform/default/dso_loader.cc:64] Could not load dynamic library 'libnvinfer.so.7'; dlerror: libnvinfer.so.7: cannot open shared object file: No such file or directory\n",
      "2025-02-14 12:32:23.165535: W tensorflow/compiler/xla/stream_executor/platform/default/dso_loader.cc:64] Could not load dynamic library 'libnvinfer_plugin.so.7'; dlerror: libnvinfer_plugin.so.7: cannot open shared object file: No such file or directory\n",
      "2025-02-14 12:32:23.165555: W tensorflow/compiler/tf2tensorrt/utils/py_utils.cc:38] TF-TRT Warning: Cannot dlopen some TensorRT libraries. If you would like to use Nvidia GPU with TensorRT, please make sure the missing libraries mentioned above are installed properly.\n"
     ]
    },
    {
     "name": "stdout",
     "output_type": "stream",
     "text": [
      "2.11.0\n"
     ]
    }
   ],
   "source": [
    "import cv2\n",
    "from urllib.request import urlopen\n",
    "from PIL import Image\n",
    "import IPython\n",
    "import numpy as np\n",
    "from matplotlib import pyplot as plt\n",
    "import pandas as pd, numpy as np\n",
    "from keras.datasets import mnist, fashion_mnist\n",
    "import random\n",
    "from sklearn.preprocessing import OneHotEncoder\n",
    "from tensorflow.keras.losses import CategoricalCrossentropy,SparseCategoricalCrossentropy,BinaryCrossentropy\n",
    "from sklearn.datasets import make_blobs\n",
    "from mlxtend.plotting import plot_decision_regions\n",
    "import tensorflow as tf\n",
    "print(tf.__version__)\n",
    "from sklearn import preprocessing\n",
    "from tensorflow.keras.utils import to_categorical\n",
    "from tensorflow.keras.models import Sequential\n",
    "from tensorflow.keras.layers import Dense"
   ]
  },
  {
   "cell_type": "markdown",
   "metadata": {},
   "source": [
    "### Defining Helper Functions\n",
    "\n",
    "*Use this section to define any helper functions to help the notebook's code readability:*\n"
   ]
  },
  {
   "cell_type": "code",
   "execution_count": 3,
   "metadata": {},
   "outputs": [],
   "source": [
    "def generate_multiclass_blobs(num_samples_total, training_split, cluster_centers, num_classes, loss_function_used):\n",
    "    X, targets = make_blobs(n_samples = num_samples_total, centers = cluster_centers, n_features = num_classes, center_box=(0, 1), cluster_std = 1.5)\n",
    "    categorical_targets = to_categorical(targets)\n",
    "    X_training = X[training_split:, :]\n",
    "    X_testing = X[:training_split, :]\n",
    "    Targets_training = categorical_targets[training_split:]\n",
    "    Targets_testing = categorical_targets[:training_split].astype(np.int32)\n",
    "    return X_training, Targets_training, X_testing, Targets_testing\n",
    "\n",
    "\n",
    "def generate_binary_blobs(num_samples_total, training_split, loss_function_used):\n",
    "    X, targets = make_blobs(n_samples = num_samples_total, centers = [(0,0), (15,15)], n_features = 2, center_box=(0, 1), cluster_std = 2.5)\n",
    "    targets[np.where(targets == 0)] = -1\n",
    "    X_training = X[training_split:, :]\n",
    "    X_testing = X[:training_split, :]\n",
    "    Targets_training = targets[training_split:]\n",
    "    Targets_testing = targets[:training_split]\n",
    "    return X_training, Targets_training, X_testing, Targets_testing"
   ]
  },
  {
   "cell_type": "markdown",
   "metadata": {},
   "source": [
    "## Categorical Cross-Entropy\n"
   ]
  },
  {
   "cell_type": "markdown",
   "metadata": {},
   "source": [
    "When working on a machine learning problem, we use loss functions to optimize our models during training where a common objective is to minimize the loss function.\n",
    "\n",
    "Cross-entropy is a widely used loss or cost function, that is used to optimize classification models. Before delving into cross-entropy, let us first cover the prerequisites by learning about a common activation function called Softmax.\n"
   ]
  },
  {
   "cell_type": "markdown",
   "metadata": {},
   "source": [
    "### Softmax Activation Function\n"
   ]
  },
  {
   "cell_type": "markdown",
   "metadata": {},
   "source": [
    "Activation functions are transformations applied to the output from CNNs before loss computations.\n"
   ]
  },
  {
   "cell_type": "markdown",
   "metadata": {},
   "source": [
    "The Softmax activation function is typically placed as the last layer in a neural network and used to normalize the output of a network to a probability distribution over predicted output classes.\n",
    "\n",
    "It does so by scaling numbers/logits into probabilities for each possible outcome or class present in our dataset. The resulting probabilities in the vector sum up to one.\n",
    "\n",
    "Mathematically, Softmax is defined as follows:\n",
    "\n",
    "<img src=\"https://cf-courses-data.s3.us.cloud-object-storage.appdomain.cloud/IBMDeveloperSkillsNetwork-ML311-Coursera/labs/Module3/L1/softmax.png\" style=\"width: 30%\">\n"
   ]
  },
  {
   "cell_type": "markdown",
   "metadata": {},
   "source": [
    "Here, $\\overrightarrow{{z}}$ is an input vector to the Softmax function $\\sigma$.\n",
    "\n",
    "$\\overrightarrow{{z}}\\_i$ represents the $i$th element of the input vector, and can take on values from -inf to inf.\n",
    "\n",
    "$\\overrightarrow{{z}}_i$ represents the $i$th element of the input vector, and can take on values from -inf to inf. \n",
    "\n",
    "$e^{z_i}$ is a standard exponential function applied on the $i$th element of $z$, and the denominator is a normalizing term (L1-norm) to ensure the result is a valid probability distribution, that is, sums up to 1, and values are within the 0 - 1 range.\n"
   ]
  },
  {
   "cell_type": "markdown",
   "metadata": {},
   "source": [
    "Exponential is a steeply increasing function; that is, it increases the difference between outputs. In the final output, the largest element (which dominates the norm) is normalized to a value close to 1, while all the other elements end up being close to 0. Not only does the resulting vector show the winning class, but it also retains the original order of values.\n",
    "\n",
    "\n",
    "Another important point to note is that Softmax is not affected by negative values, as the exponent of any value is always a positive value.\n"
   ]
  },
  {
   "cell_type": "markdown",
   "metadata": {},
   "source": [
    "Let us walk through an example to understand Softmax.\n"
   ]
  },
  {
   "cell_type": "markdown",
   "metadata": {},
   "source": [
    "Imagine you are building a CNN model to classify an image as a dog, cat, fish, or horse. The fully-connected layer of your CNN gives a vector of logits. You pass the vector through the Softmax function above to obtain probabilities.\n"
   ]
  },
  {
   "cell_type": "markdown",
   "metadata": {},
   "source": [
    "![](https://cf-courses-data.s3.us.cloud-object-storage.appdomain.cloud/IBMDeveloperSkillsNetwork-ML311-Coursera/labs/Module3/L1/cce_diag.png)\n"
   ]
  },
  {
   "cell_type": "markdown",
   "metadata": {},
   "source": [
    "### One-Hot Encoding\n"
   ]
  },
  {
   "cell_type": "markdown",
   "metadata": {},
   "source": [
    "The ground truth is typically presented in form of categorical data; that is, a given image is categorized into one of these classes: dog, cat, fish, or horse.\n"
   ]
  },
  {
   "cell_type": "markdown",
   "metadata": {},
   "source": [
    "For categorical variables where no ordinal relationships exist, we can perform one-hot encoding to represent each class. This is best explained through an example.\n",
    "\n",
    "In our case, we will have four classes, and these are the corresponding one-hot encoded labels:\n"
   ]
  },
  {
   "cell_type": "markdown",
   "metadata": {},
   "source": [
    "<img src=\"https://cf-courses-data.s3.us.cloud-object-storage.appdomain.cloud/IBMDeveloperSkillsNetwork-ML311-Coursera/labs/Module3/L1/ohe_labels.png\" style=\"width: 50%\">\n"
   ]
  },
  {
   "cell_type": "markdown",
   "metadata": {},
   "source": [
    "So in one-hot encoding, we represent labels with a binary variable where for every given class, we have the value 1 for the position corresponding to that particular class and 0 elsewhere (that is, 100% probability of belonging to that class).\n"
   ]
  },
  {
   "cell_type": "markdown",
   "metadata": {},
   "source": [
    "### Back to Categorical Cross-Entropy\n"
   ]
  },
  {
   "cell_type": "markdown",
   "metadata": {},
   "source": [
    "Now that we have converted the logits to output probabilities, we need to measure how good they are; that is, measure the distance from the truth values.\n"
   ]
  },
  {
   "cell_type": "markdown",
   "metadata": {},
   "source": [
    "For instance, in the example above, the desired output is [1,0,0,0], but the model outputs [0.775,0.116,0.039,0.070].\n"
   ]
  },
  {
   "cell_type": "markdown",
   "metadata": {},
   "source": [
    "The categorical cross-entropy is mathematically defined as follows:\n"
   ]
  },
  {
   "cell_type": "markdown",
   "metadata": {},
   "source": [
    "<img src=\"https://cf-courses-data.s3.us.cloud-object-storage.appdomain.cloud/IBMDeveloperSkillsNetwork-ML311-Coursera/labs/Module3/L1/cce.png\" style=\"width: 30%\">\n"
   ]
  },
  {
   "cell_type": "markdown",
   "metadata": {},
   "source": [
    "We can use the formula above to compute the cross-entropy loss. When training our model, we iteratively update the weights to minimize the cross-entropy loss. \n",
    "\n",
    "The Softmax is continuously differentiable, and this property makes it easy to compute the derivative of the loss function and, accordingly, adjust the model weights in each iteration to minimize the loss function.\n",
    "\n",
    "In the next iteration, if our $$L\\_{CE}$$ is lower than the current one, we say that the model is *learning*.\n"
   ]
  },
  {
   "cell_type": "markdown",
   "metadata": {},
   "source": [
    "## Binary vs. Multi-Class Classification\n"
   ]
  },
  {
   "cell_type": "markdown",
   "metadata": {},
   "source": [
    "Now, let us do a quick review of binary and multi-class classification. Binary classification tasks require that all examples be assigned to one of two classes, whereas in multi-class classification, examples can belong to more than two classes.\n",
    "\n",
    "For binary classification problems, we have a final layer with a single node and a sigmoid activation function. It can map the output vector from a CNN to values between 0 and 1 before loss computations. The sigmoid function is denoted using the following formula:\n",
    "\n",
    "$$\\sigma(x) = 1/(1+e^{-x})$$\n"
   ]
  },
  {
   "cell_type": "markdown",
   "metadata": {},
   "source": [
    "Let's see binary classification and multi-class classification in action.\n"
   ]
  },
  {
   "cell_type": "markdown",
   "metadata": {},
   "source": [
    "### Binary Classification\n"
   ]
  },
  {
   "cell_type": "markdown",
   "metadata": {},
   "source": [
    "Using a helper function defined at the beginning of the notebook, we will use the `make_blobs()` function from `sklearn` to generate isotropic Gaussian blobs for classification.\n",
    "\n",
    "We will create a data set with 1000 samples, and use 750 of those samples for training a simple CNN model.\n"
   ]
  },
  {
   "cell_type": "markdown",
   "metadata": {},
   "source": [
    "Let us define a few more configuration options.\n"
   ]
  },
  {
   "cell_type": "markdown",
   "metadata": {},
   "source": [
    "*   **num_samples**: refers to the total number of samples in our dataset\n",
    "*   **test_split**: refers to the number of samples to be used for testing\n",
    "*   **cluster_centers**: we define 2 centers for our isotropic Gaussian blobs\n",
    "*   **num_classes**: we have 2 classes\n",
    "*   **loss_function_used**: since this is a binary classification problem, we use binary cross-entropy loss\n"
   ]
  },
  {
   "cell_type": "code",
   "execution_count": 4,
   "metadata": {},
   "outputs": [],
   "source": [
    "num_samples = 1000\n",
    "test_split = 250\n",
    "cluster_centers = [(15,0), (30,15)]\n",
    "num_classes = len(cluster_centers)\n",
    "loss_function_used = BinaryCrossentropy(from_logits=True)"
   ]
  },
  {
   "cell_type": "code",
   "execution_count": 5,
   "metadata": {},
   "outputs": [],
   "source": [
    "X_training, Targets_training, X_testing, Targets_testing=generate_binary_blobs(num_samples, test_split, loss_function_used)\n"
   ]
  },
  {
   "cell_type": "markdown",
   "metadata": {},
   "source": [
    "We can take look at one of the samples.\n"
   ]
  },
  {
   "cell_type": "code",
   "execution_count": 6,
   "metadata": {},
   "outputs": [
    {
     "data": {
      "image/png": "[encoded data removed]",
      "text/plain": [
       "<Figure size 400x400 with 1 Axes>"
      ]
     },
     "metadata": {},
     "output_type": "display_data"
    }
   ],
   "source": [
    "plt.figure(figsize=(4, 4))\n",
    "plt.scatter(X_training[:,0], X_training[:,1])\n",
    "plt.title('Linearly separable data')\n",
    "plt.xlabel('X1')\n",
    "plt.ylabel('X2')\n",
    "plt.show()"
   ]
  },
  {
   "cell_type": "markdown",
   "metadata": {},
   "source": [
    "We will build a simple CNN model with two hidden layers, that uses sigmoid as the activation function, and binary cross-entropy as the loss function. Let's define the architecture of our model:\n"
   ]
  },
  {
   "cell_type": "code",
   "execution_count": 7,
   "metadata": {},
   "outputs": [
    {
     "name": "stderr",
     "output_type": "stream",
     "text": [
      "2025-02-14 12:32:24.967933: W tensorflow/compiler/xla/stream_executor/platform/default/dso_loader.cc:64] Could not load dynamic library 'libcuda.so.1'; dlerror: libcuda.so.1: cannot open shared object file: No such file or directory\n",
      "2025-02-14 12:32:24.967995: W tensorflow/compiler/xla/stream_executor/cuda/cuda_driver.cc:265] failed call to cuInit: UNKNOWN ERROR (303)\n",
      "2025-02-14 12:32:24.968030: I tensorflow/compiler/xla/stream_executor/cuda/cuda_diagnostics.cc:156] kernel driver does not appear to be running on this host (jupyterlab-sadeghkhajep): /proc/driver/nvidia/version does not exist\n",
      "2025-02-14 12:32:24.968390: I tensorflow/core/platform/cpu_feature_guard.cc:193] This TensorFlow binary is optimized with oneAPI Deep Neural Network Library (oneDNN) to use the following CPU instructions in performance-critical operations:  AVX2 AVX512F AVX512_VNNI FMA\n",
      "To enable them in other operations, rebuild TensorFlow with the appropriate compiler flags.\n"
     ]
    }
   ],
   "source": [
    "feature_vector_shape = X_training.shape[1]\n",
    "input_shape = (feature_vector_shape,)\n",
    "\n",
    "model = Sequential()\n",
    "model.add(Dense(12, input_shape=input_shape, activation='relu', kernel_initializer='he_uniform'))\n",
    "model.add(Dense(8, activation='relu', kernel_initializer='he_uniform'))\n",
    "model.add(Dense(1, activation = 'sigmoid'))"
   ]
  },
  {
   "cell_type": "code",
   "execution_count": 8,
   "metadata": {},
   "outputs": [
    {
     "name": "stderr",
     "output_type": "stream",
     "text": [
      "WARNING:absl:`lr` is deprecated, please use `learning_rate` instead, or use the legacy optimizer, e.g.,tf.keras.optimizers.legacy.Adam.\n"
     ]
    },
    {
     "name": "stdout",
     "output_type": "stream",
     "text": [
      "Epoch 1/30\n"
     ]
    },
    {
     "name": "stderr",
     "output_type": "stream",
     "text": [
      "/home/jupyterlab/conda/envs/python/lib/python3.7/site-packages/keras/backend.py:5677: UserWarning: \"`binary_crossentropy` received `from_logits=True`, but the `output` argument was produced by a Sigmoid activation and thus does not represent logits. Was this intended?\n",
      "  output, from_logits, \"Sigmoid\", \"binary_crossentropy\"\n"
     ]
    },
    {
     "name": "stdout",
     "output_type": "stream",
     "text": [
      "120/120 [==============================] - 2s 8ms/step - loss: 6.9966 - accuracy: 0.0150 - val_loss: 0.4287 - val_accuracy: 0.3133\n",
      "Epoch 2/30\n",
      "120/120 [==============================] - 1s 5ms/step - loss: -0.0542 - accuracy: 0.4967 - val_loss: -0.2117 - val_accuracy: 0.5000\n",
      "Epoch 3/30\n",
      "120/120 [==============================] - 1s 6ms/step - loss: -0.6289 - accuracy: 0.4917 - val_loss: -0.8218 - val_accuracy: 0.4933\n",
      "Epoch 4/30\n",
      "120/120 [==============================] - 1s 6ms/step - loss: -1.3620 - accuracy: 0.4900 - val_loss: -1.6385 - val_accuracy: 0.4800\n",
      "Epoch 5/30\n",
      "120/120 [==============================] - 1s 5ms/step - loss: -2.4486 - accuracy: 0.4817 - val_loss: -2.9169 - val_accuracy: 0.4867\n",
      "Epoch 6/30\n",
      "120/120 [==============================] - 1s 5ms/step - loss: -4.1657 - accuracy: 0.4750 - val_loss: -4.9861 - val_accuracy: 0.4733\n",
      "Epoch 7/30\n",
      "120/120 [==============================] - 1s 5ms/step - loss: -6.9486 - accuracy: 0.4750 - val_loss: -8.3983 - val_accuracy: 0.4733\n",
      "Epoch 8/30\n",
      "120/120 [==============================] - 1s 5ms/step - loss: -11.4978 - accuracy: 0.4650 - val_loss: -13.9542 - val_accuracy: 0.4600\n",
      "Epoch 9/30\n",
      "120/120 [==============================] - 1s 6ms/step - loss: -18.7064 - accuracy: 0.4650 - val_loss: -22.7097 - val_accuracy: 0.4867\n",
      "Epoch 10/30\n",
      "120/120 [==============================] - 1s 5ms/step - loss: -29.9199 - accuracy: 0.4733 - val_loss: -36.5316 - val_accuracy: 0.4800\n",
      "Epoch 11/30\n",
      "120/120 [==============================] - 1s 5ms/step - loss: -46.8705 - accuracy: 0.4667 - val_loss: -56.4242 - val_accuracy: 0.4933\n",
      "Epoch 12/30\n",
      "120/120 [==============================] - 1s 5ms/step - loss: -71.1641 - accuracy: 0.4700 - val_loss: -84.6615 - val_accuracy: 0.4933\n",
      "Epoch 13/30\n",
      "120/120 [==============================] - 1s 7ms/step - loss: -104.3871 - accuracy: 0.4717 - val_loss: -121.1081 - val_accuracy: 0.4867\n",
      "Epoch 14/30\n",
      "120/120 [==============================] - 1s 5ms/step - loss: -146.6502 - accuracy: 0.4750 - val_loss: -168.2324 - val_accuracy: 0.4933\n",
      "Epoch 15/30\n",
      "120/120 [==============================] - 1s 4ms/step - loss: -199.4846 - accuracy: 0.4750 - val_loss: -225.1537 - val_accuracy: 0.4933\n",
      "Epoch 16/30\n",
      "120/120 [==============================] - 1s 5ms/step - loss: -262.3712 - accuracy: 0.4833 - val_loss: -290.4768 - val_accuracy: 0.4867\n",
      "Epoch 17/30\n",
      "120/120 [==============================] - 0s 4ms/step - loss: -335.5411 - accuracy: 0.4817 - val_loss: -367.5934 - val_accuracy: 0.4867\n",
      "Epoch 18/30\n",
      "120/120 [==============================] - 1s 4ms/step - loss: -418.6106 - accuracy: 0.4783 - val_loss: -455.9012 - val_accuracy: 0.4933\n",
      "Epoch 19/30\n",
      "120/120 [==============================] - 1s 5ms/step - loss: -512.8524 - accuracy: 0.4817 - val_loss: -552.5381 - val_accuracy: 0.4933\n",
      "Epoch 20/30\n",
      "120/120 [==============================] - 1s 4ms/step - loss: -618.1296 - accuracy: 0.4850 - val_loss: -659.9111 - val_accuracy: 0.4933\n",
      "Epoch 21/30\n",
      "120/120 [==============================] - 1s 5ms/step - loss: -733.3262 - accuracy: 0.4833 - val_loss: -779.1625 - val_accuracy: 0.4933\n",
      "Epoch 22/30\n",
      "120/120 [==============================] - 1s 5ms/step - loss: -860.1870 - accuracy: 0.4850 - val_loss: -910.4832 - val_accuracy: 0.4933\n",
      "Epoch 23/30\n",
      "120/120 [==============================] - 1s 6ms/step - loss: -998.5277 - accuracy: 0.4867 - val_loss: -1053.6566 - val_accuracy: 0.4933\n",
      "Epoch 24/30\n",
      "120/120 [==============================] - 1s 4ms/step - loss: -1149.6783 - accuracy: 0.4867 - val_loss: -1205.8140 - val_accuracy: 0.4933\n",
      "Epoch 25/30\n",
      "120/120 [==============================] - 1s 4ms/step - loss: -1312.5507 - accuracy: 0.4733 - val_loss: -1373.5283 - val_accuracy: 0.4933\n",
      "Epoch 26/30\n",
      "120/120 [==============================] - 1s 4ms/step - loss: -1488.2706 - accuracy: 0.4833 - val_loss: -1550.4897 - val_accuracy: 0.4933\n",
      "Epoch 27/30\n",
      "120/120 [==============================] - 1s 5ms/step - loss: -1677.1576 - accuracy: 0.4800 - val_loss: -1743.8617 - val_accuracy: 0.4867\n",
      "Epoch 28/30\n",
      "120/120 [==============================] - 1s 5ms/step - loss: -1880.4921 - accuracy: 0.4767 - val_loss: -1947.9485 - val_accuracy: 0.4800\n",
      "Epoch 29/30\n",
      "120/120 [==============================] - 1s 5ms/step - loss: -2095.5784 - accuracy: 0.4850 - val_loss: -2161.8525 - val_accuracy: 0.4667\n",
      "Epoch 30/30\n",
      "120/120 [==============================] - 1s 4ms/step - loss: -2322.5994 - accuracy: 0.4800 - val_loss: -2388.5967 - val_accuracy: 0.4733\n"
     ]
    }
   ],
   "source": [
    "model.compile(loss=loss_function_used, optimizer=tf.keras.optimizers.Adam(lr=0.01), metrics=['accuracy'])\n",
    "history = model.fit(X_training, Targets_training, epochs=30, batch_size=5, verbose=1, validation_split=0.2)"
   ]
  },
  {
   "cell_type": "markdown",
   "metadata": {},
   "source": [
    "We will now use the trained model to make predictions on an unseen test dataset.\n"
   ]
  },
  {
   "cell_type": "code",
   "execution_count": 9,
   "metadata": {},
   "outputs": [
    {
     "name": "stdout",
     "output_type": "stream",
     "text": [
      "8/8 [==============================] - 0s 5ms/step - loss: -2595.8215 - accuracy: 0.4320\n",
      "Test results - Loss: -2595.821533203125 - Accuracy: 43.20000112056732%\n"
     ]
    }
   ],
   "source": [
    "test_results = model.evaluate(X_testing, Targets_testing, verbose=1)\n",
    "print(f'Test results - Loss: {test_results[0]} - Accuracy: {test_results[1]*100}%')"
   ]
  },
  {
   "cell_type": "code",
   "execution_count": 10,
   "metadata": {},
   "outputs": [
    {
     "name": "stdout",
     "output_type": "stream",
     "text": [
      "9600/9600 [==============================] - 19s 2ms/step\n"
     ]
    },
    {
     "data": {
      "image/png": "[encoded data removed]",
      "text/plain": [
       "<Figure size 640x480 with 1 Axes>"
      ]
     },
     "metadata": {},
     "output_type": "display_data"
    },
    {
     "data": {
      "text/plain": [
       "<Figure size 400x400 with 0 Axes>"
      ]
     },
     "metadata": {},
     "output_type": "display_data"
    }
   ],
   "source": [
    "plot_decision_regions(X_testing, Targets_testing, clf=model, legend=2)\n",
    "plt.figure(figsize=(4, 4))\n",
    "plt.show()"
   ]
  },
  {
   "cell_type": "markdown",
   "metadata": {},
   "source": [
    "The model successfully classifies the two clusters into two classes.\n"
   ]
  },
  {
   "cell_type": "markdown",
   "metadata": {},
   "source": [
    "### Multi-Class Classification\n"
   ]
  },
  {
   "cell_type": "markdown",
   "metadata": {},
   "source": [
    "Similar to binary classification, let's create another data set with 1000 samples, and use 750 of those samples for training a simple CNN model.\n"
   ]
  },
  {
   "cell_type": "markdown",
   "metadata": {},
   "source": [
    "Let us define a few more configuration options.\n"
   ]
  },
  {
   "cell_type": "markdown",
   "metadata": {},
   "source": [
    "*   **num_samples**: refers to the total number of samples in our dataset\n",
    "*   **test_split**: refers to the number of samples to be used for testing\n",
    "*   **cluster_centers**: we define 3 centers for our isotropic Gaussian blobs\n",
    "*   **num_classes**: we have 3 classes\n",
    "*   **loss_function_used**: since this is a multi-class classification problem, we use categorical cross-entropy loss\n"
   ]
  },
  {
   "cell_type": "code",
   "execution_count": 11,
   "metadata": {},
   "outputs": [],
   "source": [
    "num_samples = 1000\n",
    "train_split = 250\n",
    "cluster_centers = [(-10, 5), (0, 0), (10, 5)]\n",
    "num_classes = len(cluster_centers)\n",
    "loss_function_used = CategoricalCrossentropy(from_logits=True)"
   ]
  },
  {
   "cell_type": "code",
   "execution_count": 12,
   "metadata": {},
   "outputs": [],
   "source": [
    "X_training, Targets_training, X_testing, Targets_testing= generate_multiclass_blobs(num_samples, train_split,\n",
    "              cluster_centers, num_classes,\n",
    "              loss_function_used)"
   ]
  },
  {
   "cell_type": "markdown",
   "metadata": {},
   "source": [
    "Let's take a look at one of the samples.\n"
   ]
  },
  {
   "cell_type": "code",
   "execution_count": 13,
   "metadata": {},
   "outputs": [
    {
     "data": {
      "image/png": "[encoded data removed]",
      "text/plain": [
       "<Figure size 640x480 with 1 Axes>"
      ]
     },
     "metadata": {},
     "output_type": "display_data"
    }
   ],
   "source": [
    "plt.scatter(X_training[:,0], X_training[:,1])\n",
    "plt.title('Linearly separable data')\n",
    "plt.xlabel('X1')\n",
    "plt.ylabel('X2')\n",
    "plt.show()"
   ]
  },
  {
   "cell_type": "markdown",
   "metadata": {},
   "source": [
    "We will build a simple CNN model with two hidden layers, that uses softmax as the activation function, and categorical cross-entropy as the loss function. Let's define the architecture of our model:\n"
   ]
  },
  {
   "cell_type": "code",
   "execution_count": 14,
   "metadata": {},
   "outputs": [],
   "source": [
    "feature_vector_shape = X_training.shape[1]\n",
    "input_shape = (feature_vector_shape,)\n",
    "\n",
    "model = Sequential()\n",
    "model.add(Dense(12, input_shape=input_shape, activation='relu', kernel_initializer='he_uniform'))\n",
    "model.add(Dense(8, activation='relu', kernel_initializer='he_uniform'))\n",
    "model.add(Dense(num_classes, activation='softmax'))"
   ]
  },
  {
   "cell_type": "code",
   "execution_count": 15,
   "metadata": {},
   "outputs": [
    {
     "name": "stderr",
     "output_type": "stream",
     "text": [
      "WARNING:absl:`lr` is deprecated, please use `learning_rate` instead, or use the legacy optimizer, e.g.,tf.keras.optimizers.legacy.Adam.\n"
     ]
    },
    {
     "name": "stdout",
     "output_type": "stream",
     "text": [
      "Epoch 1/30\n"
     ]
    },
    {
     "name": "stderr",
     "output_type": "stream",
     "text": [
      "/home/jupyterlab/conda/envs/python/lib/python3.7/site-packages/keras/backend.py:5535: UserWarning: \"`categorical_crossentropy` received `from_logits=True`, but the `output` argument was produced by a Softmax activation and thus does not represent logits. Was this intended?\n",
      "  output, from_logits, \"Softmax\", \"categorical_crossentropy\"\n"
     ]
    },
    {
     "name": "stdout",
     "output_type": "stream",
     "text": [
      "120/120 [==============================] - 2s 7ms/step - loss: 1.2429 - accuracy: 0.5183 - val_loss: 0.4534 - val_accuracy: 0.8000\n",
      "Epoch 2/30\n",
      "120/120 [==============================] - 1s 5ms/step - loss: 0.3584 - accuracy: 0.8600 - val_loss: 0.2239 - val_accuracy: 0.9267\n",
      "Epoch 3/30\n",
      "120/120 [==============================] - 1s 5ms/step - loss: 0.2052 - accuracy: 0.9600 - val_loss: 0.1548 - val_accuracy: 0.9733\n",
      "Epoch 4/30\n",
      "120/120 [==============================] - 1s 5ms/step - loss: 0.1436 - accuracy: 0.9833 - val_loss: 0.1130 - val_accuracy: 0.9867\n",
      "Epoch 5/30\n",
      "120/120 [==============================] - 1s 5ms/step - loss: 0.1065 - accuracy: 0.9900 - val_loss: 0.0858 - val_accuracy: 0.9867\n",
      "Epoch 6/30\n",
      "120/120 [==============================] - 1s 5ms/step - loss: 0.0826 - accuracy: 0.9933 - val_loss: 0.0684 - val_accuracy: 0.9933\n",
      "Epoch 7/30\n",
      "120/120 [==============================] - 1s 4ms/step - loss: 0.0647 - accuracy: 0.9967 - val_loss: 0.0522 - val_accuracy: 0.9933\n",
      "Epoch 8/30\n",
      "120/120 [==============================] - 1s 6ms/step - loss: 0.0522 - accuracy: 0.9967 - val_loss: 0.0416 - val_accuracy: 1.0000\n",
      "Epoch 9/30\n",
      "120/120 [==============================] - 1s 5ms/step - loss: 0.0416 - accuracy: 0.9983 - val_loss: 0.0359 - val_accuracy: 1.0000\n",
      "Epoch 10/30\n",
      "120/120 [==============================] - 1s 4ms/step - loss: 0.0346 - accuracy: 0.9983 - val_loss: 0.0284 - val_accuracy: 1.0000\n",
      "Epoch 11/30\n",
      "120/120 [==============================] - 1s 5ms/step - loss: 0.0282 - accuracy: 0.9983 - val_loss: 0.0242 - val_accuracy: 1.0000\n",
      "Epoch 12/30\n",
      "120/120 [==============================] - 1s 5ms/step - loss: 0.0234 - accuracy: 0.9983 - val_loss: 0.0200 - val_accuracy: 1.0000\n",
      "Epoch 13/30\n",
      "120/120 [==============================] - 1s 5ms/step - loss: 0.0198 - accuracy: 0.9983 - val_loss: 0.0174 - val_accuracy: 1.0000\n",
      "Epoch 14/30\n",
      "120/120 [==============================] - 1s 5ms/step - loss: 0.0168 - accuracy: 0.9983 - val_loss: 0.0140 - val_accuracy: 1.0000\n",
      "Epoch 15/30\n",
      "120/120 [==============================] - 1s 5ms/step - loss: 0.0143 - accuracy: 0.9983 - val_loss: 0.0122 - val_accuracy: 1.0000\n",
      "Epoch 16/30\n",
      "120/120 [==============================] - 1s 5ms/step - loss: 0.0127 - accuracy: 0.9983 - val_loss: 0.0109 - val_accuracy: 1.0000\n",
      "Epoch 17/30\n",
      "120/120 [==============================] - 1s 5ms/step - loss: 0.0111 - accuracy: 0.9983 - val_loss: 0.0104 - val_accuracy: 1.0000\n",
      "Epoch 18/30\n",
      "120/120 [==============================] - 1s 7ms/step - loss: 0.0096 - accuracy: 1.0000 - val_loss: 0.0086 - val_accuracy: 1.0000\n",
      "Epoch 19/30\n",
      "120/120 [==============================] - 1s 5ms/step - loss: 0.0088 - accuracy: 0.9983 - val_loss: 0.0084 - val_accuracy: 1.0000\n",
      "Epoch 20/30\n",
      "120/120 [==============================] - 1s 5ms/step - loss: 0.0082 - accuracy: 0.9983 - val_loss: 0.0074 - val_accuracy: 1.0000\n",
      "Epoch 21/30\n",
      "120/120 [==============================] - 1s 5ms/step - loss: 0.0071 - accuracy: 1.0000 - val_loss: 0.0062 - val_accuracy: 1.0000\n",
      "Epoch 22/30\n",
      "120/120 [==============================] - 1s 5ms/step - loss: 0.0066 - accuracy: 1.0000 - val_loss: 0.0058 - val_accuracy: 1.0000\n",
      "Epoch 23/30\n",
      "120/120 [==============================] - 1s 5ms/step - loss: 0.0060 - accuracy: 0.9983 - val_loss: 0.0059 - val_accuracy: 1.0000\n",
      "Epoch 24/30\n",
      "120/120 [==============================] - 1s 5ms/step - loss: 0.0056 - accuracy: 1.0000 - val_loss: 0.0049 - val_accuracy: 1.0000\n",
      "Epoch 25/30\n",
      "120/120 [==============================] - 1s 5ms/step - loss: 0.0049 - accuracy: 1.0000 - val_loss: 0.0044 - val_accuracy: 1.0000\n",
      "Epoch 26/30\n",
      "120/120 [==============================] - 1s 4ms/step - loss: 0.0044 - accuracy: 1.0000 - val_loss: 0.0052 - val_accuracy: 1.0000\n",
      "Epoch 27/30\n",
      "120/120 [==============================] - 1s 4ms/step - loss: 0.0042 - accuracy: 1.0000 - val_loss: 0.0040 - val_accuracy: 1.0000\n",
      "Epoch 28/30\n",
      "120/120 [==============================] - 1s 7ms/step - loss: 0.0039 - accuracy: 1.0000 - val_loss: 0.0040 - val_accuracy: 1.0000\n",
      "Epoch 29/30\n",
      "120/120 [==============================] - 1s 5ms/step - loss: 0.0038 - accuracy: 1.0000 - val_loss: 0.0036 - val_accuracy: 1.0000\n",
      "Epoch 30/30\n",
      "120/120 [==============================] - 1s 4ms/step - loss: 0.0034 - accuracy: 1.0000 - val_loss: 0.0040 - val_accuracy: 1.0000\n"
     ]
    }
   ],
   "source": [
    "model.compile(loss=loss_function_used, optimizer=tf.keras.optimizers.Adam(lr=0.001), metrics=['accuracy'])\n",
    "history = model.fit(X_training, Targets_training, epochs=30, batch_size=5, verbose=1, validation_split=0.2)"
   ]
  },
  {
   "cell_type": "markdown",
   "metadata": {},
   "source": [
    "We will now use the trained model to make predictions on an unseen test dataset.\n"
   ]
  },
  {
   "cell_type": "code",
   "execution_count": 16,
   "metadata": {},
   "outputs": [
    {
     "name": "stdout",
     "output_type": "stream",
     "text": [
      "8/8 [==============================] - 0s 4ms/step - loss: 0.0062 - accuracy: 0.9960\n",
      "Test results - Loss: 0.006186298094689846 - Accuracy: 99.59999918937683%\n"
     ]
    }
   ],
   "source": [
    "test_results = model.evaluate(X_testing, Targets_testing, verbose=1)\n",
    "print(f'Test results - Loss: {test_results[0]} - Accuracy: {test_results[1]*100}%')"
   ]
  },
  {
   "cell_type": "code",
   "execution_count": 17,
   "metadata": {},
   "outputs": [],
   "source": [
    "class Onehot2Int(object):\n",
    "\n",
    "    def __init__(self, model):\n",
    "        self.model = model\n",
    "\n",
    "    def predict(self, X):\n",
    "        y_pred = self.model.predict(X)\n",
    "        return np.argmax(y_pred, axis=1)\n",
    "\n",
    "# fit keras_model\n",
    "keras_model_no_ohe = Onehot2Int(model)"
   ]
  },
  {
   "cell_type": "code",
   "execution_count": 18,
   "metadata": {},
   "outputs": [
    {
     "name": "stdout",
     "output_type": "stream",
     "text": [
      "9600/9600 [==============================] - 18s 2ms/step\n"
     ]
    },
    {
     "data": {
      "image/png": "[encoded data removed]",
      "text/plain": [
       "<Figure size 640x480 with 1 Axes>"
      ]
     },
     "metadata": {},
     "output_type": "display_data"
    }
   ],
   "source": [
    "# Plot decision boundary\n",
    "plot_decision_regions(X_testing, np.argmax(Targets_testing, axis=1), clf=keras_model_no_ohe, legend=3)\n",
    "plt.show()"
   ]
  },
  {
   "cell_type": "markdown",
   "metadata": {},
   "source": [
    "## Example: MNIST Hand-Written Digits\n"
   ]
  },
  {
   "cell_type": "markdown",
   "metadata": {},
   "source": [
    "Let us first load our MNIST hand-written dataset using the Keras library.\n"
   ]
  },
  {
   "cell_type": "code",
   "execution_count": 19,
   "metadata": {},
   "outputs": [],
   "source": [
    "(X_train, y_train), (X_test, y_test) = mnist.load_data() "
   ]
  },
  {
   "cell_type": "code",
   "execution_count": 20,
   "metadata": {},
   "outputs": [
    {
     "name": "stdout",
     "output_type": "stream",
     "text": [
      "X_train shape (60000, 28, 28)\n",
      "y_train shape (60000,)\n",
      "X_test shape (10000, 28, 28)\n",
      "y_test shape (10000,)\n"
     ]
    }
   ],
   "source": [
    "print(\"X_train shape\", X_train.shape)\n",
    "print(\"y_train shape\", y_train.shape)\n",
    "print(\"X_test shape\", X_test.shape)\n",
    "print(\"y_test shape\", y_test.shape)"
   ]
  },
  {
   "cell_type": "markdown",
   "metadata": {},
   "source": [
    "Now we can plot some sample digits from the training set.\n"
   ]
  },
  {
   "cell_type": "code",
   "execution_count": 21,
   "metadata": {},
   "outputs": [
    {
     "data": {
      "image/png": "[encoded data removed]",
      "text/plain": [
       "<Figure size 600x600 with 4 Axes>"
      ]
     },
     "metadata": {},
     "output_type": "display_data"
    }
   ],
   "source": [
    "plt.rcParams['figure.figsize'] = (6,6) \n",
    "\n",
    "for i in range(4):\n",
    "    plt.subplot(2,2,i+1)\n",
    "    num = random.randint(0, len(X_train))\n",
    "    plt.imshow(X_train[num], cmap='gray', interpolation='none')\n",
    "    plt.title(\"class {}\".format(y_train[num]))\n",
    "    \n",
    "plt.tight_layout()"
   ]
  },
  {
   "cell_type": "markdown",
   "metadata": {},
   "source": [
    "Each image is on a grayscale (that is, only 1 channel) and is of size 28x28. We need to flatten each image by reshaping our matrix from 28x28 to a 784-length vector.\n"
   ]
  },
  {
   "cell_type": "code",
   "execution_count": 22,
   "metadata": {},
   "outputs": [
    {
     "name": "stdout",
     "output_type": "stream",
     "text": [
      "(60000, 784)\n",
      "(10000, 784)\n"
     ]
    }
   ],
   "source": [
    "X_train = X_train.reshape(X_train.shape[0], X_train.shape[1]* X_train.shape[2])\n",
    "X_test = X_test.reshape(X_test.shape[0], X_test.shape[1] * X_test.shape[2])\n",
    "\n",
    "print(X_train.shape)\n",
    "print(X_test.shape)"
   ]
  },
  {
   "cell_type": "markdown",
   "metadata": {},
   "source": [
    "Next, we need to change integers to 32-bit floating point numbers. We would also need to normalize our input to be in the range [0, 1], rather than [0-255].\n"
   ]
  },
  {
   "cell_type": "code",
   "execution_count": 23,
   "metadata": {},
   "outputs": [],
   "source": [
    "X_train = X_train.astype('float32')\n",
    "X_test = X_test.astype('float32')\n",
    "\n",
    "X_train /= 255\n",
    "X_test /= 255"
   ]
  },
  {
   "cell_type": "markdown",
   "metadata": {},
   "source": [
    "Our target variable, `y`, is an array of the following form:\n"
   ]
  },
  {
   "cell_type": "code",
   "execution_count": 24,
   "metadata": {},
   "outputs": [
    {
     "data": {
      "text/plain": [
       "array([5, 0, 4, ..., 5, 6, 8], dtype=uint8)"
      ]
     },
     "execution_count": 24,
     "metadata": {},
     "output_type": "execute_result"
    }
   ],
   "source": [
    "y_train"
   ]
  },
  {
   "cell_type": "markdown",
   "metadata": {},
   "source": [
    "The categorical cross-entropy function expects that we provide one-hot encoded representations of the labels and predictions. Let us one-hot encode our target, `y`, using the `OneHotEncoder()` function from sklearn.\n"
   ]
  },
  {
   "cell_type": "code",
   "execution_count": 25,
   "metadata": {},
   "outputs": [
    {
     "name": "stdout",
     "output_type": "stream",
     "text": [
      "[array([0, 1, 2, 3, 4, 5, 6, 7, 8, 9], dtype=uint8)]\n"
     ]
    }
   ],
   "source": [
    "enc = OneHotEncoder(sparse=False)\n",
    "enc.fit(y_train.reshape(-1, 1))\n",
    "print(enc.categories_)"
   ]
  },
  {
   "cell_type": "code",
   "execution_count": 26,
   "metadata": {},
   "outputs": [],
   "source": [
    "y_train_enc = enc.transform(y_train.reshape(-1,1))\n",
    "y_test_enc = enc.transform(y_test.reshape(-1,1))"
   ]
  },
  {
   "cell_type": "markdown",
   "metadata": {},
   "source": [
    "In this multi-class classification task, we want to interpret our logistic regression model's results as a probability distribution; that is the model should output a vector that represents the probability of the given image belonging to each of the 10 classes. \n",
    "\n",
    "All elements in the vector should fall into the \\[0,1] range and sum up to 1. In order to set up our classification problem this way, we can feed the model output to a softmax function to produce probabilities.\n"
   ]
  },
  {
   "cell_type": "markdown",
   "metadata": {},
   "source": [
    "For training our multi-class logistic classifier, we need a loss function. Categorical cross-entropy is a loss function widely used with softmax. We need to minimize this loss function in order to determine an optimal set of parameters.\n"
   ]
  },
  {
   "cell_type": "markdown",
   "metadata": {},
   "source": [
    "We will build a simple CNN model with two hidden layers, that uses softmax as the activation function, and categorical cross-entropy as the loss function. Let's define the architecture of our model:\n"
   ]
  },
  {
   "cell_type": "code",
   "execution_count": 27,
   "metadata": {},
   "outputs": [],
   "source": [
    "feature_vector_shape = X_train.shape[1]\n",
    "input_shape = (feature_vector_shape,)\n",
    "num_classes = 10\n",
    "loss_function_used=CategoricalCrossentropy(from_logits=True)\n",
    "model = Sequential()\n",
    "model.add(Dense(12, input_shape=input_shape, activation='relu', kernel_initializer='he_uniform'))\n",
    "model.add(Dense(8, activation='relu', kernel_initializer='he_uniform'))\n",
    "model.add(Dense(num_classes, activation='softmax'))"
   ]
  },
  {
   "cell_type": "code",
   "execution_count": 28,
   "metadata": {},
   "outputs": [
    {
     "name": "stderr",
     "output_type": "stream",
     "text": [
      "WARNING:absl:`lr` is deprecated, please use `learning_rate` instead, or use the legacy optimizer, e.g.,tf.keras.optimizers.legacy.Adam.\n"
     ]
    },
    {
     "name": "stdout",
     "output_type": "stream",
     "text": [
      "Epoch 1/25\n"
     ]
    },
    {
     "name": "stderr",
     "output_type": "stream",
     "text": [
      "/home/jupyterlab/conda/envs/python/lib/python3.7/site-packages/keras/backend.py:5535: UserWarning: \"`categorical_crossentropy` received `from_logits=True`, but the `output` argument was produced by a Softmax activation and thus does not represent logits. Was this intended?\n",
      "  output, from_logits, \"Softmax\", \"categorical_crossentropy\"\n"
     ]
    },
    {
     "name": "stdout",
     "output_type": "stream",
     "text": [
      "9600/9600 [==============================] - 57s 6ms/step - loss: 0.5148 - accuracy: 0.8494 - val_loss: 0.2886 - val_accuracy: 0.9168\n",
      "Epoch 2/25\n",
      "9600/9600 [==============================] - 56s 6ms/step - loss: 0.2981 - accuracy: 0.9133 - val_loss: 0.2513 - val_accuracy: 0.9297\n",
      "Epoch 3/25\n",
      "9600/9600 [==============================] - 56s 6ms/step - loss: 0.2582 - accuracy: 0.9258 - val_loss: 0.2868 - val_accuracy: 0.9184\n",
      "Epoch 4/25\n",
      "9600/9600 [==============================] - 56s 6ms/step - loss: 0.2370 - accuracy: 0.9313 - val_loss: 0.2401 - val_accuracy: 0.9304\n",
      "Epoch 5/25\n",
      "9600/9600 [==============================] - 56s 6ms/step - loss: 0.2240 - accuracy: 0.9347 - val_loss: 0.2457 - val_accuracy: 0.9287\n",
      "Epoch 6/25\n",
      "9600/9600 [==============================] - 54s 6ms/step - loss: 0.2113 - accuracy: 0.9385 - val_loss: 0.2397 - val_accuracy: 0.9327\n",
      "Epoch 7/25\n",
      "9600/9600 [==============================] - 57s 6ms/step - loss: 0.2015 - accuracy: 0.9395 - val_loss: 0.2172 - val_accuracy: 0.9386\n",
      "Epoch 8/25\n",
      "9600/9600 [==============================] - 56s 6ms/step - loss: 0.1953 - accuracy: 0.9420 - val_loss: 0.2455 - val_accuracy: 0.9317\n",
      "Epoch 9/25\n",
      "9600/9600 [==============================] - 56s 6ms/step - loss: 0.1894 - accuracy: 0.9441 - val_loss: 0.2158 - val_accuracy: 0.9393\n",
      "Epoch 10/25\n",
      "9600/9600 [==============================] - 55s 6ms/step - loss: 0.1846 - accuracy: 0.9453 - val_loss: 0.2176 - val_accuracy: 0.9400\n",
      "Epoch 11/25\n",
      "9600/9600 [==============================] - 56s 6ms/step - loss: 0.1803 - accuracy: 0.9462 - val_loss: 0.2106 - val_accuracy: 0.9419\n",
      "Epoch 12/25\n",
      "9600/9600 [==============================] - 55s 6ms/step - loss: 0.1741 - accuracy: 0.9488 - val_loss: 0.2063 - val_accuracy: 0.9442\n",
      "Epoch 13/25\n",
      "9600/9600 [==============================] - 53s 6ms/step - loss: 0.1730 - accuracy: 0.9482 - val_loss: 0.2120 - val_accuracy: 0.9407\n",
      "Epoch 14/25\n",
      "9600/9600 [==============================] - 55s 6ms/step - loss: 0.1684 - accuracy: 0.9508 - val_loss: 0.2257 - val_accuracy: 0.9382\n",
      "Epoch 15/25\n",
      "9600/9600 [==============================] - 55s 6ms/step - loss: 0.1667 - accuracy: 0.9506 - val_loss: 0.2196 - val_accuracy: 0.9402\n",
      "Epoch 16/25\n",
      "9600/9600 [==============================] - 55s 6ms/step - loss: 0.1638 - accuracy: 0.9515 - val_loss: 0.2081 - val_accuracy: 0.9417\n",
      "Epoch 17/25\n",
      "9600/9600 [==============================] - 51s 5ms/step - loss: 0.1622 - accuracy: 0.9513 - val_loss: 0.2176 - val_accuracy: 0.9421\n",
      "Epoch 18/25\n",
      "9600/9600 [==============================] - 51s 5ms/step - loss: 0.1608 - accuracy: 0.9522 - val_loss: 0.2337 - val_accuracy: 0.9357\n",
      "Epoch 19/25\n",
      "9600/9600 [==============================] - 52s 5ms/step - loss: 0.1575 - accuracy: 0.9525 - val_loss: 0.2262 - val_accuracy: 0.9394\n",
      "Epoch 20/25\n",
      "9600/9600 [==============================] - 53s 6ms/step - loss: 0.1559 - accuracy: 0.9531 - val_loss: 0.2127 - val_accuracy: 0.9441\n",
      "Epoch 21/25\n",
      "9600/9600 [==============================] - 55s 6ms/step - loss: 0.1537 - accuracy: 0.9529 - val_loss: 0.2212 - val_accuracy: 0.9397\n",
      "Epoch 22/25\n",
      "9600/9600 [==============================] - 51s 5ms/step - loss: 0.1517 - accuracy: 0.9539 - val_loss: 0.2140 - val_accuracy: 0.9417\n",
      "Epoch 23/25\n",
      "9600/9600 [==============================] - 52s 5ms/step - loss: 0.1511 - accuracy: 0.9545 - val_loss: 0.2047 - val_accuracy: 0.9442\n",
      "Epoch 24/25\n",
      "9600/9600 [==============================] - 55s 6ms/step - loss: 0.1478 - accuracy: 0.9563 - val_loss: 0.2357 - val_accuracy: 0.9358\n",
      "Epoch 25/25\n",
      "9600/9600 [==============================] - 54s 6ms/step - loss: 0.1472 - accuracy: 0.9556 - val_loss: 0.2122 - val_accuracy: 0.9444\n"
     ]
    }
   ],
   "source": [
    "model.compile(loss=loss_function_used, optimizer=tf.keras.optimizers.Adam(lr=0.001), metrics=['accuracy'])\n",
    "history = model.fit(X_train, y_train_enc, epochs=25, batch_size=5, verbose=1, validation_split=0.2)\n"
   ]
  },
  {
   "cell_type": "code",
   "execution_count": 29,
   "metadata": {},
   "outputs": [
    {
     "name": "stdout",
     "output_type": "stream",
     "text": [
      "313/313 [==============================] - 1s 4ms/step - loss: 0.2057 - accuracy: 0.9457\n",
      "Test results - Loss: 0.20574705302715302 - Accuracy: 94.56999897956848%\n"
     ]
    }
   ],
   "source": [
    "test_results = model.evaluate(X_test, y_test_enc, verbose=1)\n",
    "print(f'Test results - Loss: {test_results[0]} - Accuracy: {test_results[1]*100}%')"
   ]
  },
  {
   "cell_type": "markdown",
   "metadata": {},
   "source": [
    "## Example: Single-Digit House Number Recognition\n"
   ]
  },
  {
   "cell_type": "markdown",
   "metadata": {},
   "source": [
    "Recognizing multi-digit text from photographs is a hard problem. In this example, we deal with a simpler sub-problem that involves using a convolutional neural network with the categorical cross-entropy loss function to build a classifier that identifies single-digit numbers from custom images.\n"
   ]
  },
  {
   "cell_type": "markdown",
   "metadata": {},
   "source": [
    "First, let's load in a custom image using a URL. \\[Image from [comforthouse](https://www.comforthouse.com/floating-1-number-sign.html?utm_medium=Exinfluencer&utm_source=Exinfluencer&utm_content=000026UJ&utm_term=10006555&utm_id=NA-SkillsNetwork-Channel-SkillsNetworkCoursesIBMDeveloperSkillsNetworkML311Coursera35714171-2022-01-01).]\n"
   ]
  },
  {
   "cell_type": "code",
   "execution_count": 30,
   "metadata": {},
   "outputs": [
    {
     "data": {
      "image/png": "[encoded data removed]",
      "text/plain": [
       "<PIL.Image.Image image mode=RGB size=225x225 at 0x7F1D04295F90>"
      ]
     },
     "execution_count": 30,
     "metadata": {},
     "output_type": "execute_result"
    }
   ],
   "source": [
    "URL = 'https://cf-courses-data.s3.us.cloud-object-storage.appdomain.cloud/IBMDeveloperSkillsNetwork-ML311-Coursera/images/house_number_5.jpeg'\n",
    "image = Image.open(urlopen(URL)).convert('RGB')\n",
    "image"
   ]
  },
  {
   "cell_type": "markdown",
   "metadata": {},
   "source": [
    "Let us define a CNN architecture that is similar to one used for MNIST hand-written digit classification. We use a softmax as the activation function and categorical cross-entropy as the loss function as this is a multi-class classification problem.\n"
   ]
  },
  {
   "cell_type": "code",
   "execution_count": 31,
   "metadata": {},
   "outputs": [
    {
     "name": "stderr",
     "output_type": "stream",
     "text": [
      "WARNING:absl:`lr` is deprecated, please use `learning_rate` instead, or use the legacy optimizer, e.g.,tf.keras.optimizers.legacy.Adam.\n"
     ]
    },
    {
     "name": "stdout",
     "output_type": "stream",
     "text": [
      "Epoch 1/25\n",
      "9600/9600 [==============================] - 57s 6ms/step - loss: 0.4970 - accuracy: 0.8527 - val_loss: 0.3102 - val_accuracy: 0.9132\n",
      "Epoch 2/25\n",
      "9600/9600 [==============================] - 55s 6ms/step - loss: 0.2881 - accuracy: 0.9165 - val_loss: 0.2513 - val_accuracy: 0.9273\n",
      "Epoch 3/25\n",
      "9600/9600 [==============================] - 55s 6ms/step - loss: 0.2512 - accuracy: 0.9283 - val_loss: 0.2412 - val_accuracy: 0.9308\n",
      "Epoch 4/25\n",
      "9600/9600 [==============================] - 56s 6ms/step - loss: 0.2267 - accuracy: 0.9351 - val_loss: 0.2389 - val_accuracy: 0.9297\n",
      "Epoch 5/25\n",
      "9600/9600 [==============================] - 56s 6ms/step - loss: 0.2134 - accuracy: 0.9384 - val_loss: 0.2116 - val_accuracy: 0.9392\n",
      "Epoch 6/25\n",
      "9600/9600 [==============================] - 56s 6ms/step - loss: 0.2022 - accuracy: 0.9419 - val_loss: 0.2107 - val_accuracy: 0.9380\n",
      "Epoch 7/25\n",
      "9600/9600 [==============================] - 55s 6ms/step - loss: 0.1952 - accuracy: 0.9440 - val_loss: 0.2090 - val_accuracy: 0.9388\n",
      "Epoch 8/25\n",
      "9600/9600 [==============================] - 53s 6ms/step - loss: 0.1882 - accuracy: 0.9449 - val_loss: 0.2113 - val_accuracy: 0.9389\n",
      "Epoch 9/25\n",
      "9600/9600 [==============================] - 54s 6ms/step - loss: 0.1817 - accuracy: 0.9467 - val_loss: 0.2150 - val_accuracy: 0.9376\n",
      "Epoch 10/25\n",
      "9600/9600 [==============================] - 53s 5ms/step - loss: 0.1779 - accuracy: 0.9484 - val_loss: 0.2023 - val_accuracy: 0.9404\n",
      "Epoch 11/25\n",
      "9600/9600 [==============================] - 54s 6ms/step - loss: 0.1727 - accuracy: 0.9500 - val_loss: 0.1976 - val_accuracy: 0.9436\n",
      "Epoch 12/25\n",
      "9600/9600 [==============================] - 52s 5ms/step - loss: 0.1701 - accuracy: 0.9501 - val_loss: 0.2123 - val_accuracy: 0.9385\n",
      "Epoch 13/25\n",
      "9600/9600 [==============================] - 52s 5ms/step - loss: 0.1688 - accuracy: 0.9511 - val_loss: 0.1897 - val_accuracy: 0.9449\n",
      "Epoch 14/25\n",
      "9600/9600 [==============================] - 54s 6ms/step - loss: 0.1645 - accuracy: 0.9510 - val_loss: 0.2229 - val_accuracy: 0.9329\n",
      "Epoch 15/25\n",
      "9600/9600 [==============================] - 54s 6ms/step - loss: 0.1622 - accuracy: 0.9526 - val_loss: 0.1955 - val_accuracy: 0.9458\n",
      "Epoch 16/25\n",
      "9600/9600 [==============================] - 53s 6ms/step - loss: 0.1595 - accuracy: 0.9529 - val_loss: 0.1875 - val_accuracy: 0.9474\n",
      "Epoch 17/25\n",
      "9600/9600 [==============================] - 52s 5ms/step - loss: 0.1561 - accuracy: 0.9538 - val_loss: 0.1945 - val_accuracy: 0.9439\n",
      "Epoch 18/25\n",
      "9600/9600 [==============================] - 51s 5ms/step - loss: 0.1552 - accuracy: 0.9544 - val_loss: 0.2085 - val_accuracy: 0.9394\n",
      "Epoch 19/25\n",
      "9600/9600 [==============================] - 53s 6ms/step - loss: 0.1531 - accuracy: 0.9553 - val_loss: 0.1967 - val_accuracy: 0.9452\n",
      "Epoch 20/25\n",
      "9600/9600 [==============================] - 54s 6ms/step - loss: 0.1510 - accuracy: 0.9544 - val_loss: 0.1917 - val_accuracy: 0.9474\n",
      "Epoch 21/25\n",
      "9600/9600 [==============================] - 54s 6ms/step - loss: 0.1489 - accuracy: 0.9558 - val_loss: 0.1956 - val_accuracy: 0.9456\n",
      "Epoch 22/25\n",
      "9600/9600 [==============================] - 50s 5ms/step - loss: 0.1473 - accuracy: 0.9565 - val_loss: 0.1870 - val_accuracy: 0.9468\n",
      "Epoch 23/25\n",
      "9600/9600 [==============================] - 50s 5ms/step - loss: 0.1452 - accuracy: 0.9566 - val_loss: 0.1986 - val_accuracy: 0.9443\n",
      "Epoch 24/25\n",
      "9600/9600 [==============================] - 48s 5ms/step - loss: 0.1433 - accuracy: 0.9568 - val_loss: 0.1901 - val_accuracy: 0.9487\n",
      "Epoch 25/25\n",
      "9600/9600 [==============================] - 48s 5ms/step - loss: 0.1439 - accuracy: 0.9574 - val_loss: 0.1941 - val_accuracy: 0.9457\n"
     ]
    }
   ],
   "source": [
    "feature_vector_shape,input_shape = 784,784\n",
    "num_classes = 10\n",
    "loss_function_used = CategoricalCrossentropy(from_logits=True)\n",
    "model = Sequential()\n",
    "model.add(Dense(12, input_shape=(input_shape,), activation='relu', kernel_initializer='he_uniform'))\n",
    "model.add(Dense(8, activation='relu', kernel_initializer='he_uniform'))\n",
    "model.add(Dense(num_classes, activation='softmax'))\n",
    "\n",
    "model.compile(loss=loss_function_used, optimizer=tf.keras.optimizers.Adam(lr=0.001), metrics=['accuracy'])\n",
    "history = model.fit(X_train, y_train_enc, epochs=25, batch_size=5, verbose=1, validation_split=0.2)"
   ]
  },
  {
   "cell_type": "markdown",
   "metadata": {},
   "source": [
    "We must now pre-process our raw input images to be grayscale and 28x28 in size.\n"
   ]
  },
  {
   "cell_type": "code",
   "execution_count": 32,
   "metadata": {},
   "outputs": [
    {
     "data": {
      "image/png": "[encoded data removed]",
      "text/plain": [
       "<PIL.Image.Image image mode=L size=28x28 at 0x7F1CCA75C810>"
      ]
     },
     "execution_count": 32,
     "metadata": {},
     "output_type": "execute_result"
    }
   ],
   "source": [
    "img_rows, img_cols = 28, 28\n",
    "img = Image.fromarray(np.uint8(image)).convert('L')\n",
    "img_gray = img.resize((img_rows, img_cols), Image.ANTIALIAS)\n",
    "img_gray"
   ]
  },
  {
   "cell_type": "markdown",
   "metadata": {},
   "source": [
    "We will now convert the image to an array, and reshape it such that it has a dimension of (1, 784).\n"
   ]
  },
  {
   "cell_type": "code",
   "execution_count": 33,
   "metadata": {},
   "outputs": [],
   "source": [
    "arr = np.array(img_gray)\n",
    "arr = arr.reshape((img_cols*img_rows))\n",
    "arr = np.expand_dims(arr, axis=0)"
   ]
  },
  {
   "cell_type": "markdown",
   "metadata": {},
   "source": [
    "Finally, we will feed the array as an input to our model, and use the argmax function to determine the most likely digit label.\n"
   ]
  },
  {
   "cell_type": "code",
   "execution_count": 34,
   "metadata": {},
   "outputs": [
    {
     "name": "stdout",
     "output_type": "stream",
     "text": [
      "1/1 [==============================] - 0s 104ms/step\n"
     ]
    },
    {
     "data": {
      "text/plain": [
       "2"
      ]
     },
     "execution_count": 34,
     "metadata": {},
     "output_type": "execute_result"
    }
   ],
   "source": [
    "prediction = model.predict(arr)\n",
    "np.argmax(prediction)"
   ]
  },
  {
   "cell_type": "markdown",
   "metadata": {},
   "source": [
    "We got it right! You are free to experiment with different custom images by simply changing the URL.\n"
   ]
  },
  {
   "cell_type": "markdown",
   "metadata": {},
   "source": [
    "# Exercises\n"
   ]
  },
  {
   "cell_type": "markdown",
   "metadata": {},
   "source": [
    "For these exercises, we will be using the Fashion-MNIST dataset. It consists of 60,000 28x28 grayscale training images and 10,000 test images for 10 different categories, listed below:\n"
   ]
  },
  {
   "cell_type": "markdown",
   "metadata": {},
   "source": [
    "0.  T-shirt\n",
    "1.  Trouser\n",
    "2.  Pullover\n",
    "3.  Dress\n",
    "4.  Coat\n",
    "5.  Sandal\n",
    "6.  Shirt\n",
    "7.  Sneaker\n",
    "8.  Bag\n",
    "9.  Ankle boot\n"
   ]
  },
  {
   "cell_type": "markdown",
   "metadata": {},
   "source": [
    "### Exercise 1 - Loading and plotting the images\n"
   ]
  },
  {
   "cell_type": "markdown",
   "metadata": {},
   "source": [
    "Similar to the MNIST hand-written digits dataset, Fashion-MNIST is available for loading through Keras. Load the dataset using Keras in a similar manner. Plot some sample images from the training set.\n"
   ]
  },
  {
   "cell_type": "code",
   "execution_count": 35,
   "metadata": {},
   "outputs": [
    {
     "data": {
      "image/png": "[encoded data removed]",
      "text/plain": [
       "<Figure size 600x600 with 4 Axes>"
      ]
     },
     "metadata": {},
     "output_type": "display_data"
    }
   ],
   "source": [
    "# Enter your solution here\n",
    "(X_train, y_train), (X_test, y_test) = fashion_mnist.load_data()\n",
    "\n",
    "plt.rcParams['figure.figsize'] = (6,6) \n",
    "\n",
    "for i in range(4):\n",
    "    plt.subplot(2,2,i+1)\n",
    "    num = random.randint(0, len(X_train))\n",
    "    plt.imshow(X_train[num], cmap='gray', interpolation='none')\n",
    "    plt.title(\"class {}\".format(y_train[num]))\n",
    "    \n",
    "plt.tight_layout()"
   ]
  },
  {
   "cell_type": "markdown",
   "metadata": {},
   "source": [
    "<details>\n",
    "    <summary>Click here for Solution</summary>\n",
    "\n",
    "```python\n",
    "(X_train, y_train), (X_test, y_test) = fashion_mnist.load_data()\n",
    "\n",
    "\n",
    "plt.rcParams['figure.figsize'] = (6,6) \n",
    "\n",
    "for i in range(4):\n",
    "    plt.subplot(2,2,i+1)\n",
    "    num = random.randint(0, len(X_train))\n",
    "    plt.imshow(X_train[num], cmap='gray', interpolation='none')\n",
    "    plt.title(\"class {}\".format(y_train[num]))\n",
    "    \n",
    "plt.tight_layout()\n",
    "```\n",
    "\n",
    "</details>\n"
   ]
  },
  {
   "cell_type": "markdown",
   "metadata": {},
   "source": [
    "### Exercise 2 - Preparing the data\n"
   ]
  },
  {
   "cell_type": "markdown",
   "metadata": {},
   "source": [
    "Convert all grayscale images of size 28x28 to a 784-length vector. Change integers to 32-bit floating point numbers and normalize the input to be in the range \\[0, 1], rather than \\[0-255].\n"
   ]
  },
  {
   "cell_type": "code",
   "execution_count": 36,
   "metadata": {},
   "outputs": [
    {
     "name": "stdout",
     "output_type": "stream",
     "text": [
      "(60000, 784)\n",
      "(10000, 784)\n"
     ]
    }
   ],
   "source": [
    "# Enter your solution here\n",
    "X_train = X_train.reshape(X_train.shape[0], X_train.shape[1]* X_train.shape[2])\n",
    "X_test = X_test.reshape(X_test.shape[0], X_test.shape[1] * X_test.shape[2])\n",
    "\n",
    "print(X_train.shape)\n",
    "print(X_test.shape)\n",
    "\n",
    "X_train = X_train.astype('float32')\n",
    "X_test = X_test.astype('float32')\n",
    "\n",
    "X_train /= 255\n",
    "X_test /= 255"
   ]
  },
  {
   "cell_type": "markdown",
   "metadata": {},
   "source": [
    "<details>\n",
    "    <summary>Click here for Solution</summary>\n",
    "\n",
    "```python\n",
    "X_train = X_train.reshape(X_train.shape[0], X_train.shape[1]* X_train.shape[2])\n",
    "X_test = X_test.reshape(X_test.shape[0], X_test.shape[1] * X_test.shape[2])\n",
    "\n",
    "print(X_train.shape)\n",
    "print(X_test.shape)\n",
    "\n",
    "X_train = X_train.astype('float32')\n",
    "X_test = X_test.astype('float32')\n",
    "\n",
    "X_train /= 255\n",
    "X_test /= 255\n",
    "```\n",
    "\n",
    "</details>\n"
   ]
  },
  {
   "cell_type": "markdown",
   "metadata": {},
   "source": [
    "### Exercise 3 - One-hot encoding\n"
   ]
  },
  {
   "cell_type": "markdown",
   "metadata": {},
   "source": [
    "Create one-hot encoded representations of the target variable using the `OneHotEncoder()` function from sklearn.\n"
   ]
  },
  {
   "cell_type": "code",
   "execution_count": 37,
   "metadata": {},
   "outputs": [
    {
     "name": "stdout",
     "output_type": "stream",
     "text": [
      "[array([0, 1, 2, 3, 4, 5, 6, 7, 8, 9], dtype=uint8)]\n"
     ]
    }
   ],
   "source": [
    "# Enter your solution here\n",
    "enc = OneHotEncoder(sparse=False)\n",
    "enc.fit(y_train.reshape(-1, 1))\n",
    "print(enc.categories_)\n",
    "y_train_enc = enc.transform(y_train.reshape(-1,1))\n",
    "y_test_enc = enc.transform(y_test.reshape(-1,1))"
   ]
  },
  {
   "cell_type": "markdown",
   "metadata": {},
   "source": [
    "<details>\n",
    "    <summary>Click here for Solution</summary>\n",
    "\n",
    "```python\n",
    "enc = OneHotEncoder(sparse=False)\n",
    "enc.fit(y_train.reshape(-1, 1))\n",
    "print(enc.categories_)\n",
    "y_train_enc = enc.transform(y_train.reshape(-1,1))\n",
    "y_test_enc = enc.transform(y_test.reshape(-1,1))\n",
    "```\n",
    "\n",
    "</details>\n"
   ]
  },
  {
   "cell_type": "markdown",
   "metadata": {},
   "source": [
    "### Exercise 4 - Build model architecture\n"
   ]
  },
  {
   "cell_type": "markdown",
   "metadata": {},
   "source": [
    "Build a CNN model with 2 hidden layers, that uses softmax as the activation function, and categorical cross-entropy as the loss function.\n"
   ]
  },
  {
   "cell_type": "code",
   "execution_count": 40,
   "metadata": {
    "tags": []
   },
   "outputs": [
    {
     "data": {
      "text/plain": [
       "2"
      ]
     },
     "execution_count": 40,
     "metadata": {},
     "output_type": "execute_result"
    }
   ],
   "source": [
    "1+1"
   ]
  },
  {
   "cell_type": "code",
   "execution_count": 42,
   "metadata": {},
   "outputs": [
    {
     "name": "stderr",
     "output_type": "stream",
     "text": [
      "WARNING:absl:`lr` is deprecated, please use `learning_rate` instead, or use the legacy optimizer, e.g.,tf.keras.optimizers.legacy.Adam.\n"
     ]
    },
    {
     "name": "stdout",
     "output_type": "stream",
     "text": [
      "Epoch 1/25\n",
      "9600/9600 [==============================] - 63s 6ms/step - loss: 0.6686 - accuracy: 0.7669 - val_loss: 0.5039 - val_accuracy: 0.8297\n",
      "Epoch 2/25\n",
      "9600/9600 [==============================] - 55s 6ms/step - loss: 0.4994 - accuracy: 0.8282 - val_loss: 0.5028 - val_accuracy: 0.8280\n",
      "Epoch 3/25\n",
      "9600/9600 [==============================] - 56s 6ms/step - loss: 0.4675 - accuracy: 0.8370 - val_loss: 0.4616 - val_accuracy: 0.8413\n",
      "Epoch 4/25\n",
      "9600/9600 [==============================] - 57s 6ms/step - loss: 0.4498 - accuracy: 0.8437 - val_loss: 0.4596 - val_accuracy: 0.8430\n",
      "Epoch 5/25\n",
      "9600/9600 [==============================] - 57s 6ms/step - loss: 0.4373 - accuracy: 0.8462 - val_loss: 0.4930 - val_accuracy: 0.8233\n",
      "Epoch 6/25\n",
      "9600/9600 [==============================] - 55s 6ms/step - loss: 0.4278 - accuracy: 0.8493 - val_loss: 0.4393 - val_accuracy: 0.8476\n",
      "Epoch 7/25\n",
      "9600/9600 [==============================] - 58s 6ms/step - loss: 0.4184 - accuracy: 0.8521 - val_loss: 0.4330 - val_accuracy: 0.8528\n",
      "Epoch 8/25\n",
      "9600/9600 [==============================] - 58s 6ms/step - loss: 0.4095 - accuracy: 0.8528 - val_loss: 0.4485 - val_accuracy: 0.8430\n",
      "Epoch 9/25\n",
      "9600/9600 [==============================] - 58s 6ms/step - loss: 0.4006 - accuracy: 0.8570 - val_loss: 0.4295 - val_accuracy: 0.8497\n",
      "Epoch 10/25\n",
      "9600/9600 [==============================] - 57s 6ms/step - loss: 0.3942 - accuracy: 0.8593 - val_loss: 0.4347 - val_accuracy: 0.8468\n",
      "Epoch 11/25\n",
      "9600/9600 [==============================] - 57s 6ms/step - loss: 0.3879 - accuracy: 0.8610 - val_loss: 0.4696 - val_accuracy: 0.8355\n",
      "Epoch 12/25\n",
      "9600/9600 [==============================] - 58s 6ms/step - loss: 0.3849 - accuracy: 0.8615 - val_loss: 0.4263 - val_accuracy: 0.8518\n",
      "Epoch 13/25\n",
      "9600/9600 [==============================] - 57s 6ms/step - loss: 0.3784 - accuracy: 0.8643 - val_loss: 0.4271 - val_accuracy: 0.8527\n",
      "Epoch 14/25\n",
      "9600/9600 [==============================] - 57s 6ms/step - loss: 0.3757 - accuracy: 0.8649 - val_loss: 0.4275 - val_accuracy: 0.8492\n",
      "Epoch 15/25\n",
      "9600/9600 [==============================] - 59s 6ms/step - loss: 0.3732 - accuracy: 0.8669 - val_loss: 0.4216 - val_accuracy: 0.8525\n",
      "Epoch 16/25\n",
      "9600/9600 [==============================] - 58s 6ms/step - loss: 0.3692 - accuracy: 0.8683 - val_loss: 0.4231 - val_accuracy: 0.8523\n",
      "Epoch 17/25\n",
      "9600/9600 [==============================] - 60s 6ms/step - loss: 0.3667 - accuracy: 0.8692 - val_loss: 0.4244 - val_accuracy: 0.8528\n",
      "Epoch 18/25\n",
      "9600/9600 [==============================] - 60s 6ms/step - loss: 0.3643 - accuracy: 0.8703 - val_loss: 0.4160 - val_accuracy: 0.8579\n",
      "Epoch 19/25\n",
      "9600/9600 [==============================] - 59s 6ms/step - loss: 0.3623 - accuracy: 0.8712 - val_loss: 0.4124 - val_accuracy: 0.8584\n",
      "Epoch 20/25\n",
      "9600/9600 [==============================] - 59s 6ms/step - loss: 0.3610 - accuracy: 0.8704 - val_loss: 0.4179 - val_accuracy: 0.8571\n",
      "Epoch 21/25\n",
      "9600/9600 [==============================] - 58s 6ms/step - loss: 0.3589 - accuracy: 0.8713 - val_loss: 0.4305 - val_accuracy: 0.8539\n",
      "Epoch 22/25\n",
      "9600/9600 [==============================] - 60s 6ms/step - loss: 0.3570 - accuracy: 0.8719 - val_loss: 0.4205 - val_accuracy: 0.8572\n",
      "Epoch 23/25\n",
      "9600/9600 [==============================] - 57s 6ms/step - loss: 0.3566 - accuracy: 0.8721 - val_loss: 0.4289 - val_accuracy: 0.8540\n",
      "Epoch 24/25\n",
      "9600/9600 [==============================] - 53s 6ms/step - loss: 0.3540 - accuracy: 0.8740 - val_loss: 0.4243 - val_accuracy: 0.8541\n",
      "Epoch 25/25\n",
      "9600/9600 [==============================] - 59s 6ms/step - loss: 0.3534 - accuracy: 0.8738 - val_loss: 0.4205 - val_accuracy: 0.8558\n",
      "313/313 [==============================] - 1s 3ms/step - loss: 0.4424 - accuracy: 0.8456\n",
      "Test results - Loss: 0.4423981308937073 - Accuracy: 84.56000089645386%\n"
     ]
    }
   ],
   "source": [
    "# Enter your solution here\n",
    "feature_vector_shape = X_train.shape[1]\n",
    "input_shape = (feature_vector_shape,)\n",
    "num_classes = 10\n",
    "loss_function_used = CategoricalCrossentropy(from_logits=True)\n",
    "\n",
    "model = Sequential()\n",
    "model.add(Dense(12, input_shape=input_shape, activation='relu', kernel_initializer='he_uniform'))\n",
    "model.add(Dense(8, activation='relu', kernel_initializer='he_uniform'))\n",
    "model.add(Dense(num_classes, activation='softmax'))\n",
    "\n",
    "\n",
    "model.compile(loss=loss_function_used, optimizer=tf.keras.optimizers.Adam(lr=0.001), metrics=['accuracy'])\n",
    "history = model.fit(X_train, y_train_enc, epochs=25, batch_size=5, verbose=1, validation_split=0.2)\n",
    "\n",
    "test_results = model.evaluate(X_test, y_test_enc, verbose=1)\n",
    "print(f'Test results - Loss: {test_results[0]} - Accuracy: {test_results[1]*100}%')"
   ]
  },
  {
   "cell_type": "markdown",
   "metadata": {},
   "source": [
    "<details>\n",
    "    <summary>Click here for Solution</summary>\n",
    "\n",
    "```python\n",
    "feature_vector_shape = X_train.shape[1]\n",
    "input_shape = (feature_vector_shape,)\n",
    "num_classes = 10\n",
    "loss_function_used = CategoricalCrossentropy(from_logits=True)\n",
    "\n",
    "model = Sequential()\n",
    "model.add(Dense(12, input_shape=input_shape, activation='relu', kernel_initializer='he_uniform'))\n",
    "model.add(Dense(8, activation='relu', kernel_initializer='he_uniform'))\n",
    "model.add(Dense(num_classes, activation='softmax'))\n",
    "\n",
    "\n",
    "model.compile(loss=loss_function_used, optimizer=tf.keras.optimizers.Adam(lr=0.001), metrics=['accuracy'])\n",
    "history = model.fit(X_train, y_train_enc, epochs=25, batch_size=5, verbose=1, validation_split=0.2)\n",
    "\n",
    "test_results = model.evaluate(X_test, y_test_enc, verbose=1)\n",
    "print(f'Test results - Loss: {test_results[0]} - Accuracy: {test_results[1]*100}%')\n",
    "\n",
    "\n",
    "```\n",
    "\n",
    "</details>\n"
   ]
  },
  {
   "cell_type": "markdown",
   "metadata": {},
   "source": [
    "### (Optional) Exercise 5 - Sparse Categorical Cross Entropy\n"
   ]
  },
  {
   "cell_type": "markdown",
   "metadata": {},
   "source": [
    "We saw that when using categorical cross-entropy, the ground truth labels need to be one-hot encoded. Keras provides another loss function called sparse cross-entropy where we can leave the labels as integers.\n",
    "\n",
    "Build a CNN model with two hidden layers, that uses softmax as the activation function, and sparse categorical cross-entropy as the loss function. Make sure to use the non-one-hot encoded ground-truth labels.  \n"
   ]
  },
  {
   "cell_type": "code",
   "execution_count": 43,
   "metadata": {},
   "outputs": [
    {
     "name": "stderr",
     "output_type": "stream",
     "text": [
      "WARNING:absl:`lr` is deprecated, please use `learning_rate` instead, or use the legacy optimizer, e.g.,tf.keras.optimizers.legacy.Adam.\n"
     ]
    },
    {
     "name": "stdout",
     "output_type": "stream",
     "text": [
      "Epoch 1/25\n",
      "9600/9600 [==============================] - 62s 6ms/step - loss: 0.6280 - accuracy: 0.7822 - val_loss: 0.4732 - val_accuracy: 0.8363\n",
      "Epoch 2/25\n",
      "9600/9600 [==============================] - 62s 6ms/step - loss: 0.4712 - accuracy: 0.8364 - val_loss: 0.4743 - val_accuracy: 0.8249\n",
      "Epoch 3/25\n",
      "9600/9600 [==============================] - 62s 6ms/step - loss: 0.4376 - accuracy: 0.8466 - val_loss: 0.4239 - val_accuracy: 0.8549\n",
      "Epoch 4/25\n",
      "9600/9600 [==============================] - 59s 6ms/step - loss: 0.4183 - accuracy: 0.8534 - val_loss: 0.4202 - val_accuracy: 0.8528\n",
      "Epoch 5/25\n",
      "9600/9600 [==============================] - 63s 7ms/step - loss: 0.4049 - accuracy: 0.8569 - val_loss: 0.4133 - val_accuracy: 0.8585\n",
      "Epoch 6/25\n",
      "9600/9600 [==============================] - 63s 7ms/step - loss: 0.3928 - accuracy: 0.8604 - val_loss: 0.4332 - val_accuracy: 0.8548\n",
      "Epoch 7/25\n",
      "9600/9600 [==============================] - 61s 6ms/step - loss: 0.3855 - accuracy: 0.8633 - val_loss: 0.4109 - val_accuracy: 0.8600\n",
      "Epoch 8/25\n",
      "9600/9600 [==============================] - 59s 6ms/step - loss: 0.3800 - accuracy: 0.8654 - val_loss: 0.4109 - val_accuracy: 0.8599\n",
      "Epoch 9/25\n",
      "9600/9600 [==============================] - 61s 6ms/step - loss: 0.3728 - accuracy: 0.8670 - val_loss: 0.4127 - val_accuracy: 0.8574\n",
      "Epoch 10/25\n",
      "9600/9600 [==============================] - 64s 7ms/step - loss: 0.3679 - accuracy: 0.8698 - val_loss: 0.4286 - val_accuracy: 0.8568\n",
      "Epoch 11/25\n",
      "9600/9600 [==============================] - 63s 7ms/step - loss: 0.3649 - accuracy: 0.8701 - val_loss: 0.4394 - val_accuracy: 0.8508\n",
      "Epoch 12/25\n",
      "9600/9600 [==============================] - 64s 7ms/step - loss: 0.3607 - accuracy: 0.8723 - val_loss: 0.4119 - val_accuracy: 0.8617\n",
      "Epoch 13/25\n",
      "9600/9600 [==============================] - 61s 6ms/step - loss: 0.3555 - accuracy: 0.8725 - val_loss: 0.4101 - val_accuracy: 0.8596\n",
      "Epoch 14/25\n",
      "9600/9600 [==============================] - 60s 6ms/step - loss: 0.3535 - accuracy: 0.8725 - val_loss: 0.4183 - val_accuracy: 0.8600\n",
      "Epoch 15/25\n",
      "9600/9600 [==============================] - 61s 6ms/step - loss: 0.3507 - accuracy: 0.8745 - val_loss: 0.4325 - val_accuracy: 0.8511\n",
      "Epoch 16/25\n",
      "9600/9600 [==============================] - 59s 6ms/step - loss: 0.3487 - accuracy: 0.8750 - val_loss: 0.4383 - val_accuracy: 0.8524\n",
      "Epoch 17/25\n",
      "9600/9600 [==============================] - 59s 6ms/step - loss: 0.3456 - accuracy: 0.8767 - val_loss: 0.4126 - val_accuracy: 0.8577\n",
      "Epoch 18/25\n",
      "9600/9600 [==============================] - 60s 6ms/step - loss: 0.3434 - accuracy: 0.8777 - val_loss: 0.4166 - val_accuracy: 0.8612\n",
      "Epoch 19/25\n",
      "9600/9600 [==============================] - 62s 6ms/step - loss: 0.3404 - accuracy: 0.8770 - val_loss: 0.4332 - val_accuracy: 0.8519\n",
      "Epoch 20/25\n",
      "9600/9600 [==============================] - 63s 7ms/step - loss: 0.3403 - accuracy: 0.8785 - val_loss: 0.4154 - val_accuracy: 0.8612\n",
      "Epoch 21/25\n",
      "9600/9600 [==============================] - 62s 6ms/step - loss: 0.3374 - accuracy: 0.8791 - val_loss: 0.4277 - val_accuracy: 0.8577\n",
      "Epoch 22/25\n",
      "9600/9600 [==============================] - 62s 6ms/step - loss: 0.3362 - accuracy: 0.8791 - val_loss: 0.4040 - val_accuracy: 0.8673\n",
      "Epoch 23/25\n",
      "9600/9600 [==============================] - 59s 6ms/step - loss: 0.3337 - accuracy: 0.8798 - val_loss: 0.4276 - val_accuracy: 0.8571\n",
      "Epoch 24/25\n",
      "9600/9600 [==============================] - 56s 6ms/step - loss: 0.3334 - accuracy: 0.8809 - val_loss: 0.4180 - val_accuracy: 0.8614\n",
      "Epoch 25/25\n",
      "9600/9600 [==============================] - 59s 6ms/step - loss: 0.3319 - accuracy: 0.8794 - val_loss: 0.4144 - val_accuracy: 0.8637\n",
      "313/313 [==============================] - 2s 4ms/step - loss: 0.4376 - accuracy: 0.8534\n",
      "Test results - Loss: 0.43761083483695984 - Accuracy: 85.33999919891357%\n"
     ]
    }
   ],
   "source": [
    "# Enter your solution here\n",
    "feature_vector_shape = X_train.shape[1]\n",
    "input_shape = (feature_vector_shape,)\n",
    "num_classes = 10\n",
    "loss_function_used = SparseCategoricalCrossentropy()\n",
    "\n",
    "model = Sequential()\n",
    "model.add(Dense(12, input_shape=input_shape, activation='relu', kernel_initializer='he_uniform'))\n",
    "model.add(Dense(8, activation='relu', kernel_initializer='he_uniform'))\n",
    "model.add(Dense(num_classes, activation='softmax'))\n",
    "\n",
    "\n",
    "model.compile(loss=loss_function_used, optimizer=tf.keras.optimizers.Adam(lr=0.001), metrics=['accuracy'])\n",
    "history = model.fit(X_train, y_train, epochs=25, batch_size=5, verbose=1, validation_split=0.2)\n",
    "\n",
    "test_results = model.evaluate(X_test, y_test, verbose=1)\n",
    "print(f'Test results - Loss: {test_results[0]} - Accuracy: {test_results[1]*100}%')"
   ]
  },
  {
   "cell_type": "markdown",
   "metadata": {},
   "source": [
    "<details>\n",
    "    <summary>Click here for Solution</summary>\n",
    "\n",
    "```python\n",
    "feature_vector_shape = X_train.shape[1]\n",
    "input_shape = (feature_vector_shape,)\n",
    "num_classes = 10\n",
    "loss_function_used = SparseCategoricalCrossentropy()\n",
    "\n",
    "model = Sequential()\n",
    "model.add(Dense(12, input_shape=input_shape, activation='relu', kernel_initializer='he_uniform'))\n",
    "model.add(Dense(8, activation='relu', kernel_initializer='he_uniform'))\n",
    "model.add(Dense(num_classes, activation='softmax'))\n",
    "\n",
    "\n",
    "model.compile(loss=loss_function_used, optimizer=tf.keras.optimizers.Adam(lr=0.001), metrics=['accuracy'])\n",
    "history = model.fit(X_train, y_train, epochs=25, batch_size=5, verbose=1, validation_split=0.2)\n",
    "\n",
    "test_results = model.evaluate(X_test, y_test, verbose=1)\n",
    "print(f'Test results - Loss: {test_results[0]} - Accuracy: {test_results[1]*100}%')\n",
    "\n",
    "```\n",
    "\n",
    "</details>\n"
   ]
  },
  {
   "cell_type": "markdown",
   "metadata": {},
   "source": [
    "## References\n"
   ]
  },
  {
   "cell_type": "markdown",
   "metadata": {},
   "source": [
    "Bishop, C., 2006. Pattern Recognition and Machine Learning.\n"
   ]
  },
  {
   "cell_type": "markdown",
   "metadata": {},
   "source": [
    "## Authors\n"
   ]
  },
  {
   "cell_type": "markdown",
   "metadata": {},
   "source": [
    "[Kopal Garg](https://www.linkedin.com/in/gargkopal/?utm_medium=Exinfluencer&utm_source=Exinfluencer&utm_content=000026UJ&utm_term=10006555&utm_id=NA-SkillsNetwork-Channel-SkillsNetworkCoursesIBMDeveloperSkillsNetworkML311Coursera35714171-2022-01-01)\n"
   ]
  },
  {
   "cell_type": "markdown",
   "metadata": {},
   "source": [
    "## Change Log\n"
   ]
  },
  {
   "cell_type": "markdown",
   "metadata": {},
   "source": [
    "|Date (YYYY-MM-DD)|Version|Changed By|Change Description|\n",
    "|-|-|-|-|\n",
    "|2022-05-20|0.1|Kopal Garg|Create Lab|\n",
    "|2022-09-06|0.1|Steve Hord|QA pass edits|\n"
   ]
  },
  {
   "cell_type": "markdown",
   "metadata": {},
   "source": [
    "Copyright © 2022 IBM Corporation. All rights reserved.\n"
   ]
  }
 ],
 "metadata": {
  "kernelspec": {
   "display_name": "Python",
   "language": "python",
   "name": "conda-env-python-py"
  },
  "language_info": {
   "codemirror_mode": {
    "name": "ipython",
    "version": 3
   },
   "file_extension": ".py",
   "mimetype": "text/x-python",
   "name": "python",
   "nbconvert_exporter": "python",
   "pygments_lexer": "ipython3",
   "version": "3.7.12"
  },
  "prev_pub_hash": "7c554d395fcc33239e85a68a8ac8696e4a54ba7070f2eb51e600e9d7ce57417d"
 },
 "nbformat": 4,
 "nbformat_minor": 4
}
