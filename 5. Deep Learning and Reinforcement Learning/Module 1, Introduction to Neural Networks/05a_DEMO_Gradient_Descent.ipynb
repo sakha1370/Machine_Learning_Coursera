{
 "cells": [
  {
   "cell_type": "markdown",
   "metadata": {},
   "source": [
    "<p style=\"text-align:center\">\n",
    "    <a href=\"https://skills.network/?utm_medium=Exinfluencer&utm_source=Exinfluencer&utm_content=000026UJ&utm_term=10006555&utm_id=NA-SkillsNetwork-Channel-SkillsNetworkCoursesIBMDeveloperSkillsNetworkML311Coursera747-2022-01-01\" target=\"_blank\">\n",
    "    <img src=\"https://cf-courses-data.s3.us.cloud-object-storage.appdomain.cloud/assets/logos/SN_web_lightmode.png\" width=\"200\" alt=\"Skills Network Logo\"  />\n",
    "    </a>\n",
    "</p>\n"
   ]
  },
  {
   "cell_type": "markdown",
   "metadata": {
    "run_control": {
     "marked": true
    }
   },
   "source": [
    "# Machine Learning Foundation\n",
    "\n",
    "## Course 5, Part a: Gradient Descent DEMO\n"
   ]
  },
  {
   "cell_type": "markdown",
   "metadata": {},
   "source": [
    "## Overview\n",
    "In this notebook, we will solve a simple linear regression problem by gradient descent.  \n",
    "We will see the effect of the learning rate on the trajectory in parameter space.\n",
    "We will show how Stochastic Gradient Descent (SGD) differs from the standard version, and the effect of \"shuffling\" your data during SGD.\n"
   ]
  },
  {
   "cell_type": "code",
   "execution_count": 1,
   "metadata": {},
   "outputs": [],
   "source": [
    "# Preliminaries - packages to load\n",
    "import numpy as np\n",
    "import pandas as pd\n",
    "import matplotlib.pyplot as plt\n",
    "%matplotlib inline"
   ]
  },
  {
   "cell_type": "markdown",
   "metadata": {},
   "source": [
    "## Generate Data from a known distribution\n",
    "Below we will generate data a known distribution.  \n",
    "Specifically, the true model is:\n",
    "\n",
    "$Y = b + \\theta_1 X_1 + \\theta_2 X_2 + \\epsilon$\n",
    "\n",
    "$X_1$ and $X_2$ have a uniform distribution on the interval $[0,10]$, while `const` is a vector of ones (representing the intercept term).\n",
    "\n",
    "We set actual values for $b$ ,$\\theta_1$, and $\\theta_2$\n",
    "\n",
    "Here $b=1.5$, $\\theta_1=2$, and $\\theta_2=5$\n",
    "\n",
    "We then generate a vector of $y$-values according to the model and put the predictors together in a \"feature matrix\" `x_mat`\n"
   ]
  },
  {
   "cell_type": "code",
   "execution_count": 2,
   "metadata": {},
   "outputs": [],
   "source": [
    "np.random.seed(1234)  ## This ensures we get the same data if all of the other parameters remain fixed\n",
    "\n",
    "num_obs = 100\n",
    "x1 = np.random.uniform(0,10,num_obs)\n",
    "x2 = np.random.uniform(0,10,num_obs)\n",
    "const = np.ones(num_obs)\n",
    "eps = np.random.normal(0,.5,num_obs)\n",
    "\n",
    "b = 1.5\n",
    "theta_1 = 2\n",
    "theta_2 = 5\n",
    "\n",
    "y = b*const+ theta_1*x1 + theta_2*x2 + eps\n",
    "\n",
    "x_mat = np.array([const,x1,x2]).T"
   ]
  },
  {
   "cell_type": "markdown",
   "metadata": {},
   "source": [
    "## Get the \"Right\" answer directly\n",
    "In the below cells we solve for the optimal set of coefficients.  Note that even though the true model is given by:\n",
    "\n",
    "$b=1.5$, $\\theta_1=2$, and $\\theta_2=5$\n",
    "\n",
    "The maximum likelihood (least-squares) estimate from a finite data set may be slightly different.\n"
   ]
  },
  {
   "cell_type": "markdown",
   "metadata": {},
   "source": [
    "## Exercise:\n",
    "Solve the problem two ways: \n",
    "1. By using the scikit-learn LinearRegression model\n",
    "2. Using matrix algebra directly via the formula $\\theta = (X^T X)^{-1}X^Ty$\n",
    "\n",
    "Note: The scikit-learn solver may give a warning message, this can be ignored.\n"
   ]
  },
  {
   "cell_type": "code",
   "execution_count": 3,
   "metadata": {},
   "outputs": [
    {
     "data": {
      "text/plain": [
       "array([1.49004618, 1.99675416, 5.01156315])"
      ]
     },
     "execution_count": 3,
     "metadata": {},
     "output_type": "execute_result"
    }
   ],
   "source": [
    "### Solve directly using sklearn\n",
    "from sklearn.linear_model import LinearRegression\n",
    "\n",
    "lr_model = LinearRegression(fit_intercept=False)\n",
    "lr_model.fit(x_mat, y)\n",
    "\n",
    "lr_model.coef_"
   ]
  },
  {
   "cell_type": "code",
   "execution_count": 4,
   "metadata": {},
   "outputs": [
    {
     "data": {
      "text/plain": [
       "array([1.49004618, 1.99675416, 5.01156315])"
      ]
     },
     "execution_count": 4,
     "metadata": {},
     "output_type": "execute_result"
    }
   ],
   "source": [
    "## Solve by matrix calculation\n",
    "np.linalg.inv(np.dot(x_mat.T,x_mat)).dot(x_mat.T).dot(y)"
   ]
  },
  {
   "cell_type": "markdown",
   "metadata": {},
   "source": [
    "## Solving by Gradient Descent\n",
    "\n",
    "\n",
    "For most numerical problems, we don't / can't know the underlying analytical solution. This is because we only arrive at analytical solutions by solving the equations mathematically, with pen and paper. That is more often than not just impossible. Fortunately, we have a way of converging to an approximate solution, by using **Gradient Descent**.\n",
    "\n",
    "\n",
    "We will explore this very useful method because Neural Networks, along with many other complicated algorithms, are trained using Gradient Descent.  Seeing how gradient descent works on a simple example will build intuition and help us understand some of the nuances around setting the learning rate and other parameters.  We will also explore Stochastic Gradient Descent and compare its behavior to the standard approach.\n"
   ]
  },
  {
   "cell_type": "markdown",
   "metadata": {},
   "source": [
    "## Exercise\n",
    "\n",
    "The next several cells have code to perform (full-batch) gradient descent.  We have omitted some parameters for you to fill in.\n",
    "\n",
    "1. Pick a learning rate, and a number of iterations, run the code, and then plot the trajectory of your gradient descent.\n",
    "1. Find examples where the learning rate is too high, too low, and \"just right\".\n",
    "1. Look at plots of loss function under these conditions.\n",
    "\n"
   ]
  },
  {
   "cell_type": "code",
   "execution_count": 5,
   "metadata": {},
   "outputs": [],
   "source": [
    "## Parameters to play with \n",
    "learning_rate = 1e-3\n",
    "num_iter = 10000\n",
    "theta_initial = np.array([3,3,3])"
   ]
  },
  {
   "cell_type": "code",
   "execution_count": 6,
   "metadata": {},
   "outputs": [],
   "source": [
    "def gradient_descent(learning_rate, num_iter, theta_initial):\n",
    "\n",
    "    ## Initialization steps\n",
    "    theta = theta_initial\n",
    "    theta_path = np.zeros((num_iter+1,3))\n",
    "    theta_path[0,:]= theta_initial\n",
    "\n",
    "    loss_vec = np.zeros(num_iter)\n",
    "\n",
    "    ## Main Gradient Descent loop (for a fixed number of iterations)\n",
    "    for i in range(num_iter):\n",
    "        y_pred = np.dot(theta.T,x_mat.T)\n",
    "        loss_vec[i] = np.sum((y-y_pred)**2)\n",
    "        grad_vec = (y-y_pred).dot(x_mat)/num_obs  #sum up the gradients across all observations and divide by num_obs\n",
    "        grad_vec = grad_vec\n",
    "        theta = theta + learning_rate*grad_vec\n",
    "        theta_path[i+1,:]=theta\n",
    "    return theta_path, loss_vec"
   ]
  },
  {
   "cell_type": "code",
   "execution_count": 7,
   "metadata": {},
   "outputs": [],
   "source": [
    "true_coef = [b, theta_1, theta_2]\n",
    "\n",
    "def plot_ij(theta_path, i, j, ax):\n",
    "    ax.plot(true_coef[i], true_coef[j],\n",
    "            marker='p', markersize=15, label='true coef', \n",
    "            color='#778899')\n",
    "    ax.plot(theta_path[:, i],theta_path[:, j],\n",
    "            color='k', linestyle='--', marker='^', \n",
    "            markersize=5, markevery=50)\n",
    "    ax.plot(theta_path[0, i], theta_path[0, j], marker='d', \n",
    "            markersize=15, label='start', color='#F08080')\n",
    "    ax.plot(theta_path[-1, i], theta_path[-1, j], marker='o', \n",
    "            markersize=15, label='finish', color='#F08080')\n",
    "    ax.set(\n",
    "        xlabel='theta'+str(i),\n",
    "        ylabel='theta'+str(j))\n",
    "    ax.axis('equal')\n",
    "    ax.grid(True)\n",
    "    ax.legend(loc='best')\n",
    "    \n",
    "\n",
    "def plot_all(theta_path, loss_vec, learning_rate, num_iter, theta_initial, gdtype='Gradient Descent'):\n",
    "    fig = plt.figure(figsize=(16, 16))\n",
    "    title = '{gdtype} in the 3d parameter space - Learning rate is {lr} // {iters} iters // starting point {initial}'\n",
    "    title = title.format(gdtype=gdtype, lr=learning_rate, \n",
    "                         iters=num_iter, initial=theta_initial)\n",
    "    fig.suptitle(title, fontsize=20)\n",
    "    ax = fig.add_subplot(2, 2, 1)\n",
    "    plot_ij(theta_path, 0, 1, ax)\n",
    "    ax = fig.add_subplot(2, 2, 2)\n",
    "    plot_ij(theta_path, 0, 2, ax)\n",
    "    ax = fig.add_subplot(2, 2, 3)\n",
    "    plot_ij(theta_path, 1, 2, ax)\n",
    "    ax = fig.add_subplot(2, 2, 4)\n",
    "    ax.plot(loss_vec)\n",
    "    ax.set(xlabel='iterations', ylabel='squared loss')\n",
    "    ax.grid(True)\n",
    "    \n",
    "\n",
    "theta_path, loss_vec = gradient_descent(learning_rate, num_iter, theta_initial)\n",
    "plot_all(theta_path, loss_vec, learning_rate, num_iter, theta_initial)\n",
    "\n"
   ]
  },
  {
   "cell_type": "markdown",
   "metadata": {},
   "source": [
    "## Stochastic Gradient Descent\n",
    "Rather than average the gradients across the whole dataset before taking a step, we will now take a step for every datapoint.  Each step will be somewhat of an \"overreaction\" but they should average out.  \n"
   ]
  },
  {
   "cell_type": "markdown",
   "metadata": {},
   "source": [
    "## Exercise\n",
    "The below code runs Stochastic Gradient descent, but runs through the data in the same order every time.  \n",
    "\n",
    "1. Run the code and plot the graphs.  What do you notice?\n",
    "2. Modify the code so that it randomly re-orders the data.  How do the sample trajectories compare?\n"
   ]
  },
  {
   "cell_type": "code",
   "execution_count": 8,
   "metadata": {},
   "outputs": [],
   "source": [
    "def stochastic_gradient_descent(learning_rate, num_iter, theta_initial):\n",
    "\n",
    "    ## Initialization steps\n",
    "    theta = theta_initial\n",
    "    # below are different in STOCHASTIC gradient descent\n",
    "    theta_path = np.zeros(((num_iter*num_obs)+1,3))\n",
    "    theta_path[0,:] = theta_initial\n",
    "    loss_vec = np.zeros(num_iter*num_obs)\n",
    "\n",
    "    ## Main SGD loop\n",
    "    count = 0\n",
    "    for i in range(num_iter):\n",
    "        for j in range(num_obs):\n",
    "            count+=1\n",
    "            y_pred = np.dot(theta.T,x_mat.T)\n",
    "            loss_vec[count-1] = np.sum((y-y_pred)**2)\n",
    "            grad_vec = (y[j]-y_pred[j])*(x_mat[j,:])\n",
    "            theta = theta + learning_rate*grad_vec\n",
    "            theta_path[count,:]=theta\n",
    "    return theta_path, loss_vec\n",
    "\n",
    "## Parameters to play with\n",
    "learning_rate = 1e-4\n",
    "num_iter = 100\n",
    "theta_initial = np.array([3, 3, 3])\n",
    "\n",
    "\n",
    "theta_path, loss_vec = stochastic_gradient_descent(learning_rate, \n",
    "                                                   num_iter, \n",
    "                                                   theta_initial)\n",
    "plot_all(theta_path, loss_vec, learning_rate, \n",
    "         num_iter, theta_initial, 'SGD')"
   ]
  },
  {
   "cell_type": "markdown",
   "metadata": {},
   "source": [
    "Play with the parameters below and observe the trajectory it results in\n"
   ]
  },
  {
   "cell_type": "code",
   "execution_count": 9,
   "metadata": {},
   "outputs": [],
   "source": [
    "## Parameters to play with\n",
    "learning_rate = 1e-4\n",
    "num_iter = 100\n",
    "theta_initial = np.array([3,3,3])\n",
    "\n",
    "\n",
    "theta_path, loss_vec = stochastic_gradient_descent(learning_rate, \n",
    "                                                   num_iter, \n",
    "                                                   theta_initial)\n",
    "plot_all(theta_path, loss_vec, learning_rate, num_iter, \n",
    "         theta_initial, 'SGD')"
   ]
  },
  {
   "cell_type": "markdown",
   "metadata": {},
   "source": [
    "---\n",
    "### Machine Learning Foundation (C) 2020 IBM Corporation\n"
   ]
  }
 ],
 "metadata": {
  "kernelspec": {
   "display_name": "Python 3 (ipykernel)",
   "language": "python",
   "name": "python3"
  },
  "language_info": {
   "codemirror_mode": {
    "name": "ipython",
    "version": 3
   },
   "file_extension": ".py",
   "mimetype": "text/x-python",
   "name": "python",
   "nbconvert_exporter": "python",
   "pygments_lexer": "ipython3",
   "version": "3.12.2"
  }
 },
 "nbformat": 4,
 "nbformat_minor": 4
}
